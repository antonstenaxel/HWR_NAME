{
 "cells": [
  {
   "cell_type": "code",
   "execution_count": 3,
   "metadata": {
    "collapsed": true
   },
   "outputs": [],
   "source": [
    "import os, random, cv2\n",
    "import numpy as np\n",
    "import matplotlib.pyplot as plt\n",
    "%matplotlib inline"
   ]
  },
  {
   "cell_type": "code",
   "execution_count": 4,
   "metadata": {
    "collapsed": true
   },
   "outputs": [],
   "source": [
    "path = \"/Users/Karlsson/Documents/Skola/Handwriting_Recognition/monkbrill_171005/\""
   ]
  },
  {
   "cell_type": "code",
   "execution_count": 5,
   "metadata": {},
   "outputs": [],
   "source": [
    "def get_letter(letter):\n",
    "    file = random.choice(os.listdir(path+letter))\n",
    "    img = np.double(cv2.imread(path+letter+\"/\"+file,0))\n",
    "    img_cutout = cut_out_image(img)\n",
    "    return img_cutout"
   ]
  },
  {
   "cell_type": "code",
   "execution_count": 83,
   "metadata": {
    "collapsed": true
   },
   "outputs": [],
   "source": [
    "def binarize(img):\n",
    "    treshold = 100\n",
    "    \n",
    "    img[img<=treshold] = 1\n",
    "    img[img>treshold] = 0\n",
    "    return img.astype(np.uint8)"
   ]
  },
  {
   "cell_type": "code",
   "execution_count": 113,
   "metadata": {
    "collapsed": true
   },
   "outputs": [],
   "source": [
    "def cut_out_image(img):\n",
    "    \n",
    "    binarized_image = binarize(img)\n",
    "    # You need to choose 4 or 8 for connectivity type\n",
    "    connectivity = 8  \n",
    "    # Perform the operation\n",
    "    output = cv2.connectedComponentsWithStats(binarized_image, connectivity, cv2.CV_32S)\n",
    "    # centroid matrix\n",
    "    centroids = output[3]\n",
    "    # The first cell is the number of labels\n",
    "    num_labels = output[0]\n",
    "    # The second cell is the label matrix\n",
    "    labels = output[1]\n",
    "    # The third cell is the stat matrix\n",
    "    stats = output[2]\n",
    "    # Biggest component\n",
    "    biggest_component = np.argmax(stats[1:,cv2.CC_STAT_AREA])+1\n",
    "    # Bounding box of biggest component\n",
    "    left,top,width,height = stats[biggest_component,0:4]\n",
    "    \n",
    "    # Cut out from original image\n",
    "    img*= (labels == biggest_component)\n",
    "    new_img = img[top:top+height,left:left+width]\n",
    "    \n",
    "    new_centroid = centroids[biggest_component,:]-np.array([left,top])\n",
    "    \n",
    "    return new_img, new_centroid"
   ]
  },
  {
   "cell_type": "code",
   "execution_count": 118,
   "metadata": {},
   "outputs": [],
   "source": [
    "def combine_letters(list_of_letters):\n",
    "    \n",
    "    n_letters = len(list_of_letters)\n",
    "    letters = []\n",
    "    centroids = []\n",
    "    \n",
    "    total_width = 0\n",
    "    max_height = 0\n",
    "    max_centroid = 0\n",
    "    \n",
    "    for letter in list_of_letters:\n",
    "        img, centroid = get_letter(letter)\n",
    "        height, width = np.shape(img)\n",
    "        total_width += width\n",
    "        if (height > max_height):\n",
    "            max_height = height\n",
    "        \n",
    "        if(centroid[1] > max_centroid):\n",
    "            max_centroid = centroid[1]\n",
    "        \n",
    "        letters += [img]\n",
    "        centroids += [centroid]\n",
    "     \n",
    "    combined_image = np.zeros([max_height*2,total_width])\n",
    "    \n",
    "    current_x = 0\n",
    "    max_h = 0\n",
    "    for i in range(n_letters):\n",
    "        img = letters[i]\n",
    "        height,width = np.shape(img)\n",
    "        height_offset = int(max_centroid-centroids[i][1])\n",
    "        combined_image[height_offset:height_offset+height,current_x:current_x+width] = img\n",
    "        current_x += width\n",
    "        \n",
    "        if(height_offset+height > max_h):\n",
    "            max_h = height_offset+height\n",
    "        \n",
    "\n",
    "    return combined_image[:max_h,:]"
   ]
  },
  {
   "cell_type": "markdown",
   "metadata": {},
   "source": [
    "## Load random image of given letter"
   ]
  },
  {
   "cell_type": "code",
   "execution_count": 9,
   "metadata": {},
   "outputs": [
    {
     "data": {
      "text/plain": [
       "<matplotlib.image.AxesImage at 0x110107668>"
      ]
     },
     "execution_count": 9,
     "metadata": {},
     "output_type": "execute_result"
    },
    {
     "data": {
      "image/png": "[encoded data removed]",
      "text/plain": [
       "<matplotlib.figure.Figure at 0x1100b26a0>"
      ]
     },
     "metadata": {},
     "output_type": "display_data"
    }
   ],
   "source": [
    "img, centroid = get_letter(\"Het\")\n",
    "plt.imshow(img,cmap=\"binary\")"
   ]
  },
  {
   "cell_type": "code",
   "execution_count": 122,
   "metadata": {},
   "outputs": [
    {
     "data": {
      "text/plain": [
       "<matplotlib.image.AxesImage at 0x11d463390>"
      ]
     },
     "execution_count": 122,
     "metadata": {},
     "output_type": "execute_result"
    },
    {
     "data": {
      "image/png": "[encoded data removed]",
      "text/plain": [
       "<matplotlib.figure.Figure at 0x11d2d6518>"
      ]
     },
     "metadata": {},
     "output_type": "display_data"
    }
   ],
   "source": [
    "img = combine_letters(['Nun-final',\"Nun-medial\",\"Shin\",\"Het\"])\n",
    "plt.imshow(img,cmap=\"binary\")"
   ]
  },
  {
   "cell_type": "code",
   "execution_count": null,
   "metadata": {
    "collapsed": true
   },
   "outputs": [],
   "source": []
  },
  {
   "cell_type": "code",
   "execution_count": 82,
   "metadata": {},
   "outputs": [
    {
     "data": {
      "text/plain": [
       "100.0"
      ]
     },
     "execution_count": 82,
     "metadata": {},
     "output_type": "execute_result"
    }
   ],
   "source": [
    "np.max(img)"
   ]
  },
  {
   "cell_type": "markdown",
   "metadata": {},
   "source": [
    " "
   ]
  },
  {
   "cell_type": "code",
   "execution_count": 72,
   "metadata": {},
   "outputs": [
    {
     "data": {
      "text/plain": [
       "100.0"
      ]
     },
     "execution_count": 72,
     "metadata": {},
     "output_type": "execute_result"
    }
   ],
   "source": [
    "np.max(img)\n"
   ]
  },
  {
   "cell_type": "code",
   "execution_count": 16,
   "metadata": {},
   "outputs": [
    {
     "ename": "IndexError",
     "evalue": "index 2 is out of bounds for axis 0 with size 1",
     "output_type": "error",
     "traceback": [
      "\u001b[0;31m---------------------------------------------------------------------------\u001b[0m",
      "\u001b[0;31mIndexError\u001b[0m                                Traceback (most recent call last)",
      "\u001b[0;32m<ipython-input-16-3d25c170cde9>\u001b[0m in \u001b[0;36m<module>\u001b[0;34m()\u001b[0m\n\u001b[0;32m----> 1\u001b[0;31m \u001b[0ma\u001b[0m\u001b[0;34m[\u001b[0m\u001b[0;34m[\u001b[0m\u001b[0;36m2\u001b[0m\u001b[0;34m,\u001b[0m\u001b[0;36m3\u001b[0m\u001b[0;34m]\u001b[0m\u001b[0;34m]\u001b[0m\u001b[0;34m\u001b[0m\u001b[0m\n\u001b[0m",
      "\u001b[0;31mIndexError\u001b[0m: index 2 is out of bounds for axis 0 with size 1"
     ]
    }
   ],
   "source": []
  },
  {
   "cell_type": "code",
   "execution_count": 64,
   "metadata": {},
   "outputs": [
    {
     "data": {
      "text/plain": [
       "array([[ 0.       ,  0.7345265,  0.       ,  0.       ,  0.7326643]])"
      ]
     },
     "execution_count": 64,
     "metadata": {},
     "output_type": "execute_result"
    }
   ],
   "source": [
    "a*(a>.5)"
   ]
  },
  {
   "cell_type": "code",
   "execution_count": null,
   "metadata": {
    "collapsed": true
   },
   "outputs": [],
   "source": []
  }
 ],
 "metadata": {
  "kernelspec": {
   "display_name": "Python 3",
   "language": "python",
   "name": "python3"
  }
 },
 "nbformat": 4,
 "nbformat_minor": 2
}
