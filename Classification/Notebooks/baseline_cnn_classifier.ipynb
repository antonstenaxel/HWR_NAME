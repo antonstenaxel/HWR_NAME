{
 "cells": [
  {
   "cell_type": "code",
   "execution_count": 2,
   "metadata": {},
   "outputs": [
    {
     "name": "stderr",
     "output_type": "stream",
     "text": [
      "Using TensorFlow backend.\n"
     ]
    }
   ],
   "source": [
    "from keras.models import load_model"
   ]
  },
  {
   "cell_type": "code",
   "execution_count": 4,
   "metadata": {},
   "outputs": [],
   "source": [
    "model = load_model(\"./baseline_cnn.h5\")"
   ]
  },
  {
   "cell_type": "code",
   "execution_count": 9,
   "metadata": {},
   "outputs": [],
   "source": [
    "import tensorflow as tf\n",
    "import keras\n",
    "import os\n",
    "import cv2\n",
    "import numpy as np\n",
    "import matplotlib.pyplot as plt\n",
    "%matplotlib inline"
   ]
  },
  {
   "cell_type": "code",
   "execution_count": 15,
   "metadata": {
    "collapsed": true
   },
   "outputs": [],
   "source": []
  },
  {
   "cell_type": "code",
   "execution_count": 22,
   "metadata": {},
   "outputs": [
    {
     "data": {
      "text/plain": [
       "<matplotlib.image.AxesImage at 0x182a881f98>"
      ]
     },
     "execution_count": 22,
     "metadata": {},
     "output_type": "execute_result"
    },
    {
     "data": {
      "image/png": "[encoded data removed]",
      "text/plain": [
       "<matplotlib.figure.Figure at 0x182ac72668>"
      ]
     },
     "metadata": {},
     "output_type": "display_data"
    }
   ],
   "source": [
    "plt.imshow(img,cmap=\"gray\")"
   ]
  },
  {
   "cell_type": "code",
   "execution_count": 19,
   "metadata": {
    "collapsed": true
   },
   "outputs": [],
   "source": [
    "def reshape_image(img,size):\n",
    "    shape = np.shape(img)\n",
    "    new_shape = (shape/np.max(shape)*size).astype(int)\n",
    "    img = cv2.resize(img, dsize=tuple(new_shape), interpolation=cv2.INTER_AREA)\n",
    "                \n",
    "    delta_h = size - new_shape[1]\n",
    "    delta_w = size - new_shape[0]\n",
    "                \n",
    "    top, bottom = delta_h//2, delta_h-(delta_h//2)\n",
    "    left, right = delta_w//2, delta_w-(delta_w//2)\n",
    "                \n",
    "    color = 255\n",
    "                \n",
    "    new_img = cv2.copyMakeBorder(img,top,bottom,left,right,cv2.BORDER_CONSTANT,value=color)\n",
    "    \n",
    "    return new_img"
   ]
  },
  {
   "cell_type": "code",
   "execution_count": null,
   "metadata": {
    "collapsed": true
   },
   "outputs": [],
   "source": [
    "def preprocess_image(img):\n",
    "    new_image = reshape_image(img,28)\n",
    "    new_image = new_image.reshape(1, 28, 28, 1)\n",
    "    new_image /= 255\n",
    "    \n",
    "    return new_image"
   ]
  },
  {
   "cell_type": "code",
   "execution_count": 32,
   "metadata": {},
   "outputs": [],
   "source": []
  },
  {
   "cell_type": "code",
   "execution_count": 24,
   "metadata": {},
   "outputs": [
    {
     "data": {
      "text/plain": [
       "<matplotlib.image.AxesImage at 0x182a5e6240>"
      ]
     },
     "execution_count": 24,
     "metadata": {},
     "output_type": "execute_result"
    },
    {
     "data": {
      "image/png": "[encoded data removed]",
      "text/plain": [
       "<matplotlib.figure.Figure at 0x182a4553c8>"
      ]
     },
     "metadata": {},
     "output_type": "display_data"
    }
   ],
   "source": [
    "plt.imshow(new_image,cmap = \"gray\")"
   ]
  },
  {
   "cell_type": "code",
   "execution_count": 36,
   "metadata": {},
   "outputs": [],
   "source": [
    "p = model.predict_proba(new_image)"
   ]
  },
  {
   "cell_type": "code",
   "execution_count": 40,
   "metadata": {},
   "outputs": [
    {
     "name": "stdout",
     "output_type": "stream",
     "text": [
      "0.999998\n",
      "7.33159e-07\n",
      "3.28288e-10\n",
      "1.91892e-10\n",
      "1.13671e-06\n",
      "1.09037e-12\n",
      "1.34354e-10\n",
      "1.03159e-11\n",
      "1.21033e-12\n",
      "2.62269e-12\n",
      "9.97378e-14\n",
      "9.54705e-14\n",
      "1.06204e-11\n",
      "1.86499e-11\n",
      "1.60645e-12\n",
      "4.33933e-14\n",
      "1.30152e-12\n",
      "1.57911e-09\n",
      "6.84763e-11\n",
      "1.98129e-12\n",
      "6.40134e-12\n",
      "3.68796e-11\n",
      "5.17445e-12\n",
      "4.92125e-11\n",
      "1.94665e-11\n",
      "1.51606e-10\n",
      "4.80197e-13\n"
     ]
    }
   ],
   "source": [
    "for pi in p[0]:\n",
    "    print(pi)"
   ]
  },
  {
   "cell_type": "code",
   "execution_count": 43,
   "metadata": {},
   "outputs": [
    {
     "name": "stdout",
     "output_type": "stream",
     "text": [
      "Number of arguments: 3 arguments\n",
      "Argument List: ['/anaconda3/lib/python3.6/site-packages/ipykernel_launcher.py', '-f', '/Users/Karlsson/Library/Jupyter/runtime/kernel-a66f308e-c6f7-46f3-8ac3-3b5730af8560.json']\n"
     ]
    }
   ],
   "source": [
    "import sys\n",
    "print(\"Number of arguments:\", len(sys.argv), \"arguments\")\n",
    "print(\"Argument List:\", str(sys.argv))\n",
    "\n",
    "img = np.double(cv2.imread(\"sys.argv[0]\",0))"
   ]
  },
  {
   "cell_type": "code",
   "execution_count": null,
   "metadata": {
    "collapsed": true
   },
   "outputs": [],
   "source": []
  }
 ],
 "metadata": {
  "kernelspec": {
   "display_name": "Python 3",
   "language": "python",
   "name": "python3"
  },
  "language_info": {
   "codemirror_mode": {
    "name": "ipython",
    "version": 3
   },
   "file_extension": ".py",
   "mimetype": "text/x-python",
   "name": "python",
   "nbconvert_exporter": "python",
   "pygments_lexer": "ipython3",
   "version": "3.6.4"
  }
 },
 "nbformat": 4,
 "nbformat_minor": 2
}
