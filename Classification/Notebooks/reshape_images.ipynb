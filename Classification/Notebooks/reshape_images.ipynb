{
 "cells": [
  {
   "cell_type": "code",
   "execution_count": 14,
   "metadata": {
    "collapsed": true
   },
   "outputs": [],
   "source": [
    "import os\n",
    "import numpy as np\n",
    "import cv2"
   ]
  },
  {
   "cell_type": "code",
   "execution_count": 69,
   "metadata": {
    "collapsed": true
   },
   "outputs": [],
   "source": [
    "path = \"/Users/Karlsson/Documents/Skola/Handwriting_Recognition/monkbrill_171005/\"\n",
    "save_folder = \"/Users/Karlsson/Documents/Skola/Handwriting_Recognition/monkbrill_same_size/\""
   ]
  },
  {
   "cell_type": "markdown",
   "metadata": {},
   "source": [
    "## Reshapes, and zero pads images to 28x28 "
   ]
  },
  {
   "cell_type": "code",
   "execution_count": 72,
   "metadata": {
    "collapsed": true
   },
   "outputs": [],
   "source": [
    "count = 0;\n",
    "for foldername in os.listdir(path):\n",
    "    if(not foldername.startswith(\".\")):\n",
    "        for filename in os.listdir(path+ foldername):\n",
    "            if(filename.endswith(\".pgm\")):\n",
    "                \n",
    "                img = np.double(cv2.imread(path+ foldername +\"/\" +filename,0));\n",
    "                \n",
    "                img = reshape_image(image,28)\n",
    "                save_path = save_folder+foldername+\"_\"+str(count)+\".pgm\"\n",
    "                \n",
    "                cv2.imwrite(save_path ,img)\n",
    "                count+=1\n",
    "                \n",
    "               \n",
    "                    "
   ]
  },
  {
   "cell_type": "code",
   "execution_count": 2,
   "metadata": {
    "collapsed": true
   },
   "outputs": [],
   "source": [
    "def reshape_image(img,size):\n",
    "    shape = np.shape(img)\n",
    "    new_shape = (shape/np.max(shape)*size).astype(int)\n",
    "    img = cv2.resize(img, dsize=tuple(new_shape), interpolation=cv2.INTER_AREA)\n",
    "                \n",
    "    delta_h = size - new_shape[1]\n",
    "    delta_w = size - new_shape[0]\n",
    "                \n",
    "    top, bottom = delta_h//2, delta_h-(delta_h//2)\n",
    "    left, right = delta_w//2, delta_w-(delta_w//2)\n",
    "                \n",
    "    color = 255\n",
    "                \n",
    "    new_img = cv2.copyMakeBorder(img,top,bottom,left,right,cv2.BORDER_CONSTANT,value=color)\n",
    "    \n",
    "    return new_img\n",
    "    "
   ]
  },
  {
   "cell_type": "code",
   "execution_count": null,
   "metadata": {
    "collapsed": true
   },
   "outputs": [],
   "source": []
  }
 ],
 "metadata": {
  "kernelspec": {
   "display_name": "Python 3",
   "language": "python",
   "name": "python3"
  },
  "language_info": {
   "codemirror_mode": {
    "name": "ipython",
    "version": 3
   },
   "file_extension": ".py",
   "mimetype": "text/x-python",
   "name": "python",
   "nbconvert_exporter": "python",
   "pygments_lexer": "ipython3",
   "version": "3.6.4"
  }
 },
 "nbformat": 4,
 "nbformat_minor": 2
}
