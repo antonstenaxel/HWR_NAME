{
 "cells": [
  {
   "cell_type": "code",
   "execution_count": 11,
   "metadata": {},
   "outputs": [],
   "source": [
    "import tensorflow as tf\n",
    "import keras\n",
    "from keras.models import Sequential\n",
    "from keras.layers import Dense, Dropout, Flatten\n",
    "from keras.layers import Conv2D, MaxPooling2D\n",
    "from keras import backend as K\n",
    "import os\n",
    "import cv2\n",
    "import numpy as np\n",
    "import matplotlib.pyplot as plt\n",
    "%matplotlib inline"
   ]
  },
  {
   "cell_type": "code",
   "execution_count": 3,
   "metadata": {
    "collapsed": true
   },
   "outputs": [],
   "source": [
    "dic = {'Alef': 0,\n",
    " 'Ayin': 1,\n",
    " 'Bet': 2,\n",
    " 'Dalet': 3,\n",
    " 'Gimel': 4,\n",
    " 'He': 5,\n",
    " 'Het': 6,\n",
    " 'Kaf': 7,\n",
    " 'Kaf-final': 8,\n",
    " 'Lamed': 9,\n",
    " 'Mem': 10,\n",
    " 'Mem-medial': 11,\n",
    " 'Nun-final': 12,\n",
    " 'Nun-medial': 13,\n",
    " 'Pe': 14,\n",
    " 'Pe-final': 15,\n",
    " 'Qof': 16,\n",
    " 'Resh': 17,\n",
    " 'Samekh': 18,\n",
    " 'Shin': 19,\n",
    " 'Taw': 20,\n",
    " 'Tet': 21,\n",
    " 'Tsadi-final': 22,\n",
    " 'Tsadi-medial': 23,\n",
    " 'Waw': 24,\n",
    " 'Yod': 25,\n",
    " 'Zayin': 26}"
   ]
  },
  {
   "cell_type": "code",
   "execution_count": 4,
   "metadata": {
    "collapsed": true
   },
   "outputs": [],
   "source": [
    "def load_data(path, train_test_split=0.7):\n",
    "    n_datapoints = 0; \n",
    "    \n",
    "    for filename in os.listdir(path):\n",
    "        n_datapoints +=1\n",
    "        \n",
    "    \n",
    "    flag = 1; \n",
    "    \n",
    "    count = 0\n",
    "    for filename in os.listdir(path):\n",
    "        img = np.double(cv2.imread(path+\"/\"+filename,0));\n",
    "        \n",
    "        if(flag == 1):\n",
    "            \n",
    "            shape = np.shape(img);\n",
    "            \n",
    "            all_images = np.zeros([n_datapoints, shape[1], shape[0]])\n",
    "            all_labels = np.zeros([n_datapoints])\n",
    "  \n",
    "            flag = 0; \n",
    "     \n",
    "        \n",
    "        label = dic[filename.split(\"_\")[0]]\n",
    "        \n",
    "        all_images[count] = img\n",
    "        all_labels[count] = label\n",
    "        \n",
    "        \n",
    "        count += 1 \n",
    "        \n",
    "        \n",
    "    n_training_points = int(train_test_split * n_datapoints)\n",
    "    \n",
    "    perm = np.random.permutation(n_datapoints)\n",
    "    train_indices = perm[:n_training_points]\n",
    "    test_indices = perm[n_training_points:]\n",
    "    \n",
    "    x_train = all_images[train_indices]\n",
    "    y_train = all_labels[train_indices]\n",
    "    \n",
    "    x_test = all_images[test_indices]\n",
    "    y_test = all_labels[test_indices]\n",
    "    \n",
    "        \n",
    "    return x_train, y_train, x_test, y_test\n",
    "    "
   ]
  },
  {
   "cell_type": "code",
   "execution_count": 5,
   "metadata": {
    "collapsed": true
   },
   "outputs": [],
   "source": [
    "x_train, y_train, x_test, y_test = load_data(\"/Users/Karlsson/Documents/Skola/Handwriting_Recognition/monkbrill_same_size/\")"
   ]
  },
  {
   "cell_type": "code",
   "execution_count": 6,
   "metadata": {},
   "outputs": [
    {
     "data": {
      "text/plain": [
       "(1662,)"
      ]
     },
     "execution_count": 6,
     "metadata": {},
     "output_type": "execute_result"
    }
   ],
   "source": [
    "np.shape(y_test)"
   ]
  },
  {
   "cell_type": "code",
   "execution_count": 12,
   "metadata": {},
   "outputs": [
    {
     "data": {
      "text/plain": [
       "<matplotlib.image.AxesImage at 0x183464b518>"
      ]
     },
     "execution_count": 12,
     "metadata": {},
     "output_type": "execute_result"
    },
    {
     "data": {
      "image/png": "[encoded data removed]",
      "text/plain": [
       "<matplotlib.figure.Figure at 0x183447f940>"
      ]
     },
     "metadata": {},
     "output_type": "display_data"
    }
   ],
   "source": [
    "plt.imshow(x_train[1],cmap=\"gray\")"
   ]
  },
  {
   "cell_type": "code",
   "execution_count": 13,
   "metadata": {
    "collapsed": true
   },
   "outputs": [],
   "source": [
    "batch_size = 128\n",
    "num_classes = 27\n",
    "epochs = 12"
   ]
  },
  {
   "cell_type": "code",
   "execution_count": 14,
   "metadata": {
    "collapsed": true
   },
   "outputs": [],
   "source": [
    "img_rows, img_cols = 28, 28"
   ]
  },
  {
   "cell_type": "code",
   "execution_count": 15,
   "metadata": {
    "collapsed": true
   },
   "outputs": [],
   "source": [
    "if K.image_data_format() == 'channels_first':\n",
    "    x_train = x_train.reshape(x_train.shape[0], 1, img_rows, img_cols)\n",
    "    x_test = x_test.reshape(x_test.shape[0], 1, img_rows, img_cols)\n",
    "    input_shape = (1, img_rows, img_cols)\n",
    "else:\n",
    "    x_train = x_train.reshape(x_train.shape[0], img_rows, img_cols, 1)\n",
    "    x_test = x_test.reshape(x_test.shape[0], img_rows, img_cols, 1)\n",
    "    input_shape = (img_rows, img_cols, 1)"
   ]
  },
  {
   "cell_type": "code",
   "execution_count": 16,
   "metadata": {},
   "outputs": [
    {
     "name": "stdout",
     "output_type": "stream",
     "text": [
      "x_train shape: (3875, 28, 28, 1)\n",
      "3875 train samples\n",
      "1662 test samples\n"
     ]
    }
   ],
   "source": [
    "x_train = x_train.astype('float32')\n",
    "x_test = x_test.astype('float32')\n",
    "x_train /= 255\n",
    "x_test /= 255\n",
    "print('x_train shape:', x_train.shape)\n",
    "print(x_train.shape[0], 'train samples')\n",
    "print(x_test.shape[0], 'test samples')"
   ]
  },
  {
   "cell_type": "code",
   "execution_count": 17,
   "metadata": {
    "collapsed": true
   },
   "outputs": [],
   "source": [
    "y_train = keras.utils.to_categorical(y_train, num_classes)\n",
    "y_test = keras.utils.to_categorical(y_test, num_classes)"
   ]
  },
  {
   "cell_type": "code",
   "execution_count": 18,
   "metadata": {},
   "outputs": [],
   "source": [
    "model = Sequential()\n",
    "model.add(Conv2D(32, kernel_size=(3, 3),activation='relu',input_shape=input_shape))\n",
    "model.add(Conv2D(64, (3, 3), activation='relu'))\n",
    "model.add(MaxPooling2D(pool_size=(2, 2)))\n",
    "model.add(Dropout(0.25))\n",
    "model.add(Flatten())\n",
    "model.add(Dense(128, activation='relu'))\n",
    "model.add(Dropout(0.5))\n",
    "model.add(Dense(num_classes, activation='softmax'))\n"
   ]
  },
  {
   "cell_type": "code",
   "execution_count": 19,
   "metadata": {},
   "outputs": [
    {
     "name": "stdout",
     "output_type": "stream",
     "text": [
      "Train on 3875 samples, validate on 1662 samples\n",
      "Epoch 1/12\n",
      "3875/3875 [==============================] - 12s 3ms/step - loss: 2.2387 - acc: 0.3706 - val_loss: 1.1714 - val_acc: 0.6799\n",
      "Epoch 2/12\n",
      "3875/3875 [==============================] - 11s 3ms/step - loss: 0.9486 - acc: 0.7453 - val_loss: 0.7776 - val_acc: 0.7930\n",
      "Epoch 3/12\n",
      "3875/3875 [==============================] - 12s 3ms/step - loss: 0.6923 - acc: 0.8119 - val_loss: 0.5329 - val_acc: 0.8694\n",
      "Epoch 4/12\n",
      "3875/3875 [==============================] - 12s 3ms/step - loss: 0.5432 - acc: 0.8449 - val_loss: 0.5565 - val_acc: 0.8526\n",
      "Epoch 5/12\n",
      "3875/3875 [==============================] - 12s 3ms/step - loss: 0.4943 - acc: 0.8627 - val_loss: 0.4423 - val_acc: 0.8833\n",
      "Epoch 6/12\n",
      "3875/3875 [==============================] - 13s 3ms/step - loss: 0.4042 - acc: 0.8841 - val_loss: 0.4523 - val_acc: 0.8761\n",
      "Epoch 7/12\n",
      "3875/3875 [==============================] - 12s 3ms/step - loss: 0.3571 - acc: 0.8919 - val_loss: 0.4107 - val_acc: 0.8875\n",
      "Epoch 8/12\n",
      "3875/3875 [==============================] - 13s 3ms/step - loss: 0.3237 - acc: 0.9022 - val_loss: 0.3741 - val_acc: 0.8983\n",
      "Epoch 9/12\n",
      "3875/3875 [==============================] - 13s 3ms/step - loss: 0.2872 - acc: 0.9099 - val_loss: 0.3708 - val_acc: 0.9019\n",
      "Epoch 10/12\n",
      "3875/3875 [==============================] - 14s 4ms/step - loss: 0.2643 - acc: 0.9148 - val_loss: 0.3512 - val_acc: 0.9007\n",
      "Epoch 11/12\n",
      "3875/3875 [==============================] - 14s 4ms/step - loss: 0.2318 - acc: 0.9221 - val_loss: 0.3551 - val_acc: 0.9019\n",
      "Epoch 12/12\n",
      "3875/3875 [==============================] - 15s 4ms/step - loss: 0.2130 - acc: 0.9319 - val_loss: 0.3748 - val_acc: 0.9116\n",
      "Test loss: 0.374780294267\n",
      "Test accuracy: 0.91155234614\n"
     ]
    }
   ],
   "source": [
    "model.compile(loss=keras.losses.categorical_crossentropy,\n",
    "              optimizer=keras.optimizers.Adadelta(),\n",
    "              metrics=['accuracy'])\n",
    "\n",
    "model.fit(x_train, y_train,\n",
    "          batch_size=batch_size,\n",
    "          epochs=epochs,\n",
    "          verbose=1,\n",
    "          validation_data=(x_test, y_test))\n",
    "score = model.evaluate(x_test, y_test, verbose=0)\n",
    "print('Test loss:', score[0])\n",
    "print('Test accuracy:', score[1])"
   ]
  },
  {
   "cell_type": "code",
   "execution_count": null,
   "metadata": {
    "collapsed": true
   },
   "outputs": [],
   "source": []
  },
  {
   "cell_type": "code",
   "execution_count": 21,
   "metadata": {},
   "outputs": [],
   "source": [
    "model.save(\"./baseline_cnn.h5\")"
   ]
  },
  {
   "cell_type": "code",
   "execution_count": null,
   "metadata": {
    "collapsed": true
   },
   "outputs": [],
   "source": []
  },
  {
   "cell_type": "code",
   "execution_count": null,
   "metadata": {
    "collapsed": true
   },
   "outputs": [],
   "source": []
  },
  {
   "cell_type": "code",
   "execution_count": null,
   "metadata": {
    "collapsed": true
   },
   "outputs": [],
   "source": []
  }
 ],
 "metadata": {
  "kernelspec": {
   "display_name": "Python 3",
   "language": "python",
   "name": "python3"
  },
  "language_info": {
   "codemirror_mode": {
    "name": "ipython",
    "version": 3
   },
   "file_extension": ".py",
   "mimetype": "text/x-python",
   "name": "python",
   "nbconvert_exporter": "python",
   "pygments_lexer": "ipython3",
   "version": "3.6.4"
  }
 },
 "nbformat": 4,
 "nbformat_minor": 2
}
