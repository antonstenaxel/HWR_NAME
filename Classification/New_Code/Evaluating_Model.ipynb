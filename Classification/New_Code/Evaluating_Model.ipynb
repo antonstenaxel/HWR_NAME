{
 "cells": [
  {
   "cell_type": "code",
   "execution_count": 1,
   "metadata": {},
   "outputs": [
    {
     "name": "stderr",
     "output_type": "stream",
     "text": [
      "Using TensorFlow backend.\n"
     ]
    }
   ],
   "source": [
    "import os, math, random\n",
    "import numpy as np\n",
    "import matplotlib.pyplot as plt\n",
    "%matplotlib inline\n",
    "import cv2\n",
    "from keras.models import load_model\n",
    "import matplotlib.pyplot as plt\n",
    "from mpl_toolkits.axes_grid1 import make_axes_locatable\n",
    "import utility_functions"
   ]
  },
  {
   "cell_type": "code",
   "execution_count": 2,
   "metadata": {
    "collapsed": true
   },
   "outputs": [],
   "source": [
    "model = load_model(\"Models/improved_augmented_cnn_v5.h5\")"
   ]
  },
  {
   "cell_type": "code",
   "execution_count": 3,
   "metadata": {
    "collapsed": true
   },
   "outputs": [],
   "source": [
    "num_to_letter = {0: 'Alef',\n",
    "    1: 'Ayin',\n",
    "    2: 'Bet',\n",
    "    3: 'Dalet',\n",
    "    4: 'Gimel',\n",
    "    5: 'He',\n",
    "    6: 'Het',\n",
    "    7: 'Kaf',\n",
    "    8: 'Kaf-final',\n",
    "    9: 'Lamed',\n",
    "    10: 'Mem',\n",
    "    11: 'Mem-medial',\n",
    "    12: 'Nun-final',\n",
    "    13: 'Nun-medial',\n",
    "    14: 'Pe',\n",
    "    15: 'Pe-final',\n",
    "    16: 'Qof',\n",
    "    17: 'Resh',\n",
    "    18: 'Samekh',\n",
    "    19: 'Shin',\n",
    "    20: 'Taw',\n",
    "    21: 'Tet',\n",
    "    22: 'Tsadi-final',\n",
    "    23: 'Tsadi-medial',\n",
    "    24: 'Waw',\n",
    "    25: 'Yod',\n",
    "    26: 'Zayin',\n",
    "    27: 'Multi-letter',\n",
    "    28: 'Noise'}\n",
    "        \n",
    "letter_to_num = {'Alef': 0,\n",
    " 'Ayin': 1,\n",
    " 'Bet': 2,\n",
    " 'Dalet': 3,\n",
    " 'Gimel': 4,\n",
    " 'He': 5,\n",
    " 'Het': 6,\n",
    " 'Kaf': 7,\n",
    " 'Kaf-final': 8,\n",
    " 'Lamed': 9,\n",
    " 'Mem': 10,\n",
    " 'Mem-medial': 11,\n",
    " 'Nun-final': 12,\n",
    " 'Nun-medial': 13,\n",
    " 'Pe': 14,\n",
    " 'Pe-final': 15,\n",
    " 'Qof': 16,\n",
    " 'Resh': 17,\n",
    " 'Samekh': 18,\n",
    " 'Shin': 19,\n",
    " 'Taw': 20,\n",
    " 'Tet': 21,\n",
    " 'Tsadi-final': 22,\n",
    " 'Tsadi-medial': 23,\n",
    " 'Waw': 24,\n",
    " 'Yod': 25,\n",
    " 'Zayin': 26,\n",
    " 'Multi-letter':27,\n",
    " 'Noise':28}"
   ]
  },
  {
   "cell_type": "code",
   "execution_count": 5,
   "metadata": {},
   "outputs": [],
   "source": [
    "data_path = \"../Final_Test_Data/Annotated/\"\n",
    "n_datapoints = len(os.listdir(data_path))\n",
    "\n",
    "test_images = np.zeros([n_datapoints,28,28])\n",
    "test_labels = np.zeros([n_datapoints])\n",
    "\n",
    "i = 0\n",
    "for image in os.listdir(data_path):\n",
    "    if(image.endswith(\".jpg\") or image.endswith(\".png\")):\n",
    "        letter = image.split(\"_\")[0]\n",
    "        raw_image = cv2.imread(data_path+image,0)\n",
    "        preprocesed_image = utility_functions.preprocess_single_letter(raw_image)\n",
    "        #thinned_image = utility_functions.zhangSuen(preprocesed_image)\n",
    "        test_images[i] = (preprocesed_image-0.18588859)/0.35586226\n",
    "        test_labels[i] = letter_to_num[letter]\n",
    "    \n",
    "        i+=1\n"
   ]
  },
  {
   "cell_type": "code",
   "execution_count": 8,
   "metadata": {},
   "outputs": [
    {
     "data": {
      "image/png": "[encoded data removed]",
      "text/plain": [
       "<matplotlib.figure.Figure at 0x1c2cb52cc0>"
      ]
     },
     "metadata": {},
     "output_type": "display_data"
    }
   ],
   "source": [
    "i = random.randint(0,n_datapoints-1)\n",
    "plt.imshow(test_images[i],cmap=\"gray\")\n",
    "plt.title(num_to_letter[test_labels[i]])\n",
    "plt.show()"
   ]
  },
  {
   "cell_type": "code",
   "execution_count": null,
   "metadata": {
    "collapsed": true
   },
   "outputs": [],
   "source": []
  },
  {
   "cell_type": "code",
   "execution_count": 9,
   "metadata": {
    "collapsed": true
   },
   "outputs": [],
   "source": [
    "x = test_images.reshape([n_datapoints,28,28,1])\n",
    "p = model.predict_proba(x)\n"
   ]
  },
  {
   "cell_type": "code",
   "execution_count": 10,
   "metadata": {},
   "outputs": [
    {
     "name": "stdout",
     "output_type": "stream",
     "text": [
      "acc: 0.4786729857819905\n"
     ]
    }
   ],
   "source": [
    "confusion_matrix = np.zeros([29,29])\n",
    "wrong_images = 0.5*np.zeros([300,28,28])\n",
    "wrong_labels = np.zeros([300])\n",
    "wi = 0\n",
    "for i in range(n_datapoints):\n",
    "    top = np.argsort(-p[i,:])[0]\n",
    "    \n",
    "    confusion_matrix[int(test_labels[i]),top] += 1\n",
    "    \n",
    "    if(top != test_labels[i]):\n",
    "        wrong_images[wi,:,:] = test_images[i]\n",
    "        wrong_labels[wi] = top\n",
    "        wi+=1 \n",
    "print(\"acc: {}\".format(np.sum(np.diag(confusion_matrix))/n_datapoints))"
   ]
  },
  {
   "cell_type": "code",
   "execution_count": 11,
   "metadata": {},
   "outputs": [
    {
     "data": {
      "text/plain": [
       "110"
      ]
     },
     "execution_count": 11,
     "metadata": {},
     "output_type": "execute_result"
    }
   ],
   "source": [
    "wi"
   ]
  },
  {
   "cell_type": "code",
   "execution_count": 15,
   "metadata": {},
   "outputs": [
    {
     "data": {
      "image/png": "[encoded data removed]",
      "text/plain": [
       "<matplotlib.figure.Figure at 0x1c2d6a77f0>"
      ]
     },
     "metadata": {},
     "output_type": "display_data"
    },
    {
     "name": "stdout",
     "output_type": "stream",
     "text": [
      "Multi-letter\n"
     ]
    }
   ],
   "source": [
    "i=20\n",
    "plt.imshow(test_images[i],cmap=\"gray\")\n",
    "plt.title(num_to_letter[test_labels[i]])\n",
    "plt.show()\n",
    "print(num_to_letter[wrong_labels[i]])"
   ]
  },
  {
   "cell_type": "code",
   "execution_count": null,
   "metadata": {},
   "outputs": [],
   "source": [
    "[num_to_letter[index] for index in wrong_labels[:wi]]"
   ]
  },
  {
   "cell_type": "code",
   "execution_count": null,
   "metadata": {},
   "outputs": [],
   "source": [
    "i = np.argmax(confusion_matrix[letter_to_num[\"Multi-letter\"],:])\n",
    "print(confusion_matrix[letter_to_num[\"Multi-letter\"],:])\n",
    "num_to_letter[i]"
   ]
  },
  {
   "cell_type": "code",
   "execution_count": null,
   "metadata": {},
   "outputs": [],
   "source": [
    "plt.matshow(confusion_matrix,cmap=\"binary\")\n",
    "plt.show()"
   ]
  },
  {
   "cell_type": "code",
   "execution_count": null,
   "metadata": {
    "collapsed": true
   },
   "outputs": [],
   "source": []
  },
  {
   "cell_type": "code",
   "execution_count": 16,
   "metadata": {},
   "outputs": [
    {
     "data": {
      "text/plain": [
       "<matplotlib.axes._subplots.AxesSubplot at 0x1c2f664b38>"
      ]
     },
     "execution_count": 16,
     "metadata": {},
     "output_type": "execute_result"
    },
    {
     "data": {
      "image/png": "[encoded data removed]",
      "text/plain": [
       "<matplotlib.figure.Figure at 0x10bb09cc0>"
      ]
     },
     "metadata": {},
     "output_type": "display_data"
    }
   ],
   "source": [
    "import pandas as pd\n",
    "f_cm = pd.DataFrame(confusion_matrix, index = letter_to_num.keys(),\n",
    "                  columns = letter_to_num.keys())\n",
    "import seaborn as sn\n",
    "%matplotlib inline\n",
    "sn.heatmap(f_cm, annot = True)"
   ]
  },
  {
   "cell_type": "code",
   "execution_count": null,
   "metadata": {},
   "outputs": [],
   "source": [
    "np.sum(test_labels == 27)"
   ]
  },
  {
   "cell_type": "code",
   "execution_count": null,
   "metadata": {},
   "outputs": [],
   "source": [
    "plt.hist(test_labels)"
   ]
  },
  {
   "cell_type": "code",
   "execution_count": null,
   "metadata": {
    "collapsed": true
   },
   "outputs": [],
   "source": [
    "a = np.zeros([4,4])"
   ]
  },
  {
   "cell_type": "code",
   "execution_count": null,
   "metadata": {
    "collapsed": true
   },
   "outputs": [],
   "source": [
    "a[[1,0,3],1] = 1"
   ]
  },
  {
   "cell_type": "code",
   "execution_count": null,
   "metadata": {},
   "outputs": [],
   "source": [
    "a"
   ]
  },
  {
   "cell_type": "code",
   "execution_count": null,
   "metadata": {},
   "outputs": [],
   "source": [
    "img = cv2.imread(\"../Final_Test_Data/Annotated/Waw_R_1.jpg\",0)\n",
    "plt.imshow(img,cmap=\"gray\")"
   ]
  },
  {
   "cell_type": "code",
   "execution_count": null,
   "metadata": {},
   "outputs": [],
   "source": [
    "preprocesed_image = utility_functions.preprocess_image(img)\n",
    "thinned_image = utility_functions.zhangSuen(preprocesed_image)\n",
    "\n",
    "plt.imshow(thinned_image,cmap=\"gray\")"
   ]
  },
  {
   "cell_type": "code",
   "execution_count": null,
   "metadata": {
    "collapsed": true
   },
   "outputs": [],
   "source": [
    "def pad_image(image, padding, value):\n",
    "    height, width = np.shape(image)\n",
    "    \n",
    "    new_image = value*np.ones([height+2*padding, width+2*padding])\n",
    "    \n",
    "    new_image[padding:padding+height, padding:padding+width] = image.copy()\n",
    "    \n",
    "    return new_image"
   ]
  },
  {
   "cell_type": "code",
   "execution_count": null,
   "metadata": {},
   "outputs": [],
   "source": [
    "plt.imshow(pad_image(img,2,255),cmap=\"gray\")"
   ]
  },
  {
   "cell_type": "code",
   "execution_count": null,
   "metadata": {
    "collapsed": true
   },
   "outputs": [],
   "source": []
  }
 ],
 "metadata": {
  "kernelspec": {
   "display_name": "Python 3",
   "language": "python",
   "name": "python3"
  },
  "language_info": {
   "codemirror_mode": {
    "name": "ipython",
    "version": 3
   },
   "file_extension": ".py",
   "mimetype": "text/x-python",
   "name": "python",
   "nbconvert_exporter": "python",
   "pygments_lexer": "ipython3",
   "version": "3.6.4"
  }
 },
 "nbformat": 4,
 "nbformat_minor": 2
}
