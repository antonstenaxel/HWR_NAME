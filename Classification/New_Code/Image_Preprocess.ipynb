{
 "cells": [
  {
   "cell_type": "code",
   "execution_count": 1,
   "metadata": {
    "collapsed": true
   },
   "outputs": [],
   "source": [
    "import os, math, random\n",
    "import numpy as np\n",
    "import matplotlib.pyplot as plt\n",
    "%matplotlib inline\n",
    "import cv2"
   ]
  },
  {
   "cell_type": "code",
   "execution_count": 2,
   "metadata": {
    "collapsed": true
   },
   "outputs": [],
   "source": [
    "data_path = '/Users/Karlsson/Documents/Skola/Handwriting_Recognition/Classification_Improved/Data/'\n",
    "save_path = '/Users/Karlsson/Documents/Skola/Handwriting_Recognition/Classification_Improved/Data/Resized_Data/'"
   ]
  },
  {
   "cell_type": "code",
   "execution_count": null,
   "metadata": {
    "collapsed": true
   },
   "outputs": [],
   "source": []
  },
  {
   "cell_type": "code",
   "execution_count": 19,
   "metadata": {},
   "outputs": [
    {
     "name": "stdout",
     "output_type": "stream",
     "text": [
      "/Users/Karlsson/Documents/Skola/Handwriting_Recognition/Classification_Improved/Data/Train_Data/Multi-letter/Multi-letter_5.png\n",
      "38.00284191829485 47.46003552397868\n"
     ]
    }
   ],
   "source": [
    "avg_w= 0\n",
    "avg_h = 0\n",
    "c = 0\n",
    "for super_folder in ['Test_Data','Train_Data']:\n",
    "    for letter in [x for x in os.listdir(data_path+super_folder)if not x.startswith(\".\")]:\n",
    "        for file in [x for x in os.listdir(data_path+super_folder+\"/\"+letter) if not x.startswith(\".\")]:\n",
    "            \n",
    "            load_path = data_path+super_folder+\"/\"+letter+\"/\"+file\n",
    "            \n",
    "            try:\n",
    "                #img = load_image(load_path)\n",
    "                img =cv2.imread(load_path,0)\n",
    "                h,w = np.shape(img)\n",
    "            except: \n",
    "                print(load_path)\n",
    "                \n",
    "            #if(not os.path.isdir(save_path+super_folder+\"/\"+letter)):\n",
    "            #    os.system(\"mkdir \" + save_path + super_folder+\"/\"+letter)\n",
    "         \n",
    "            \n",
    "            c+=1\n",
    "            avg_w += w\n",
    "            avg_h += h\n",
    "            #write_path = save_path+super_folder+\"/\"+letter+\"/\"+file\n",
    "            #try:\n",
    "            #pass\n",
    "                #cv2.imwrite(write_path,img)\n",
    "            #except:\n",
    "            #    print(write_path)\n",
    "            \n",
    "            \n",
    "print(avg_w/c, avg_h/c)"
   ]
  },
  {
   "cell_type": "code",
   "execution_count": null,
   "metadata": {
    "collapsed": true
   },
   "outputs": [],
   "source": []
  },
  {
   "cell_type": "markdown",
   "metadata": {},
   "source": [
    "/Users/Karlsson/Documents/Skola/Handwriting_Recognition/Classification_Improved/Data/Resized_Data/Train_Data/Multi-letter"
   ]
  },
  {
   "cell_type": "code",
   "execution_count": 4,
   "metadata": {
    "collapsed": true
   },
   "outputs": [],
   "source": [
    "def load_image(img_path):\n",
    "    img = cv2.imread(img_path,0)\n",
    "    return(preprocess_image(img))"
   ]
  },
  {
   "cell_type": "code",
   "execution_count": 5,
   "metadata": {
    "collapsed": true
   },
   "outputs": [],
   "source": [
    "def add_border(image, padding, value):\n",
    "    height, width = np.shape(image)\n",
    "\n",
    "    new_image = value*np.ones([height+2*padding, width+2*padding])\n",
    "\n",
    "    new_image[padding:padding+height, padding:padding+width] = image.copy()\n",
    "\n",
    "    return new_image.astype(np.uint8)\n"
   ]
  },
  {
   "cell_type": "code",
   "execution_count": 6,
   "metadata": {
    "collapsed": true
   },
   "outputs": [],
   "source": [
    "def binarize_image(img):\n",
    "    binarized_image = img.copy()\n",
    "    threshold = 127\n",
    "    binarized_image[img<=threshold] = 1\n",
    "    binarized_image[img>threshold] = 0\n",
    "    \n",
    "    return binarized_image\n"
   ]
  },
  {
   "cell_type": "code",
   "execution_count": 7,
   "metadata": {
    "collapsed": true
   },
   "outputs": [],
   "source": [
    "def extract_biggect_component(binarized_image):\n",
    "    output = cv2.connectedComponentsWithStats(binarized_image, 4, cv2.CV_32S)\n",
    "    labels = output[1]\n",
    "    stats = output[2]\n",
    "    \n",
    "    biggest_components =  np.argsort(-stats[:,4])\n",
    "    \n",
    "    if(stats[biggest_components[0],0] == 0 and stats[biggest_components[0],1] == 0 ):\n",
    "        biggest_component = biggest_components[1]\n",
    "    else:\n",
    "        biggest_component = biggest_components[0]\n",
    "    \n",
    "    binarized_image[labels != biggest_component] = 0\n",
    "    binarized_image[labels == biggest_component] = 1\n",
    "    #Get bounding box of resulting image\n",
    "    left,top,width,height = stats[biggest_component,0:4]\n",
    "\n",
    "    x1 = left\n",
    "    x2 = left + width\n",
    "    y1 = top\n",
    "    y2 = top + height\n",
    "\n",
    "    boxed_image = binarized_image[y1:y2,x1:x2].astype(np.uint8)\n",
    "    \n",
    "    return boxed_image    "
   ]
  },
  {
   "cell_type": "code",
   "execution_count": 8,
   "metadata": {
    "collapsed": true
   },
   "outputs": [],
   "source": [
    "def blur_image(img, sigma=0.5):\n",
    "    temp = img.copy()\n",
    "    smooth_image = 255*cv2.GaussianBlur(temp.astype(np.float64),(3,3),sigmaX=sigma,sigmaY=sigma)\n",
    "    \n",
    "    return smooth_image\n",
    "    "
   ]
  },
  {
   "cell_type": "code",
   "execution_count": 9,
   "metadata": {
    "collapsed": true
   },
   "outputs": [],
   "source": [
    "def preprocess_multi_letter(img):\n",
    "    \n",
    "    img = add_border(img,2,255)\n",
    "    \n",
    "    #Binarize image\n",
    "    binarized_image = binarize_image(img)\n",
    "    \n",
    "    #Filter out biggest component\n",
    "    boxed_image = extract_biggect_component(binarized_image)\n",
    "    \n",
    "    #Reshape, but keep ratio\n",
    "    original_shape = np.array(np.shape(boxed_image))\n",
    "    new_shape = ((original_shape/original_shape[0])*24).astype(int)\n",
    "    \n",
    "    resized_image = cv2.resize(boxed_image,dsize = (new_shape[1],new_shape[0]))\n",
    "    \n",
    "    #Add border again after boxing\n",
    "    temp = add_border(resized_image,2,0)\n",
    "    \n",
    "    #Blur\n",
    "    smooth_image = blur_image(temp)\n",
    "    \n",
    "    \n",
    "\n",
    "\n",
    "    return smooth_image.astype(np.uint8)"
   ]
  },
  {
   "cell_type": "code",
   "execution_count": 10,
   "metadata": {
    "collapsed": true
   },
   "outputs": [],
   "source": [
    "def preprocess_single_letter(img):\n",
    "    \n",
    "    img = add_border(img,2,255)\n",
    "\n",
    "    #Binarize image\n",
    "    binarized_image = binarize_image(img)\n",
    "    \n",
    "    #Filter out biggest component\n",
    "    boxed_image = extract_biggect_component(binarized_image)\n",
    "\n",
    "    #Reshape, but keep ratio\n",
    "    original_shape = np.shape(boxed_image)\n",
    "    new_shape = (original_shape/np.max(original_shape)*25).astype(int)\n",
    "    resized_image = cv2.resize(boxed_image,dsize = (new_shape[1],new_shape[0]))\n",
    "    \n",
    "    #Blur\n",
    "    sigma = 0.5\n",
    "    smooth_image = 255*cv2.GaussianBlur(resized_image.astype(np.float64),(3,3),sigmaX=sigma,sigmaY=sigma)\n",
    "    \n",
    "    #Zeropad to make it desired size\n",
    "    height,width  = new_shape\n",
    "\n",
    "    left_padding = (28-width)//2\n",
    "    top_padding = (28-height)//2\n",
    "\n",
    "    padded_image = np.zeros([28,28])\n",
    "    padded_image[top_padding:top_padding+height, left_padding:left_padding+width] = smooth_image\n",
    "\n",
    "    return padded_image.astype(np.uint8)"
   ]
  },
  {
   "cell_type": "code",
   "execution_count": 24,
   "metadata": {},
   "outputs": [
    {
     "data": {
      "text/plain": [
       "(28, 28)"
      ]
     },
     "execution_count": 24,
     "metadata": {},
     "output_type": "execute_result"
    },
    {
     "data": {
      "image/png": "[encoded data removed]",
      "text/plain": [
       "<matplotlib.figure.Figure at 0x122c92e80>"
      ]
     },
     "metadata": {},
     "output_type": "display_data"
    }
   ],
   "source": [
    "letter = random.choice(os.listdir(data_path+\"Train_Data/\"))\n",
    "file = random.choice(os.listdir(data_path+\"Train_Data/\"+letter))\n",
    "img = cv2.imread(data_path+\"Train_Data/\"+letter+\"/\"+file,0)\n",
    "pimg= preprocess_single_letter(img)\n",
    "plt.subplot(121)\n",
    "plt.imshow(img,cmap=\"gray\")\n",
    "plt.subplot(122)\n",
    "plt.imshow(pimg,cmap=\"gray\")\n",
    "np.shape(pimg)"
   ]
  },
  {
   "cell_type": "code",
   "execution_count": 26,
   "metadata": {},
   "outputs": [
    {
     "data": {
      "text/plain": [
       "'Mem_162.png'"
      ]
     },
     "execution_count": 26,
     "metadata": {},
     "output_type": "execute_result"
    }
   ],
   "source": [
    "file"
   ]
  },
  {
   "cell_type": "code",
   "execution_count": 68,
   "metadata": {},
   "outputs": [
    {
     "data": {
      "text/plain": [
       "<matplotlib.image.AxesImage at 0x11816cb70>"
      ]
     },
     "execution_count": 68,
     "metadata": {},
     "output_type": "execute_result"
    },
    {
     "data": {
      "image/png": "[encoded data removed]",
      "text/plain": [
       "<matplotlib.figure.Figure at 0x118021358>"
      ]
     },
     "metadata": {},
     "output_type": "display_data"
    }
   ],
   "source": [
    "a= add_border(img,2,255)\n",
    "plt.imshow(a,cmap=\"gray\")"
   ]
  },
  {
   "cell_type": "code",
   "execution_count": 69,
   "metadata": {},
   "outputs": [
    {
     "data": {
      "text/plain": [
       "<matplotlib.image.AxesImage at 0x117fd1860>"
      ]
     },
     "execution_count": 69,
     "metadata": {},
     "output_type": "execute_result"
    },
    {
     "data": {
      "image/png": "[encoded data removed]",
      "text/plain": [
       "<matplotlib.figure.Figure at 0x118160550>"
      ]
     },
     "metadata": {},
     "output_type": "display_data"
    }
   ],
   "source": [
    "b = binarize_image(a)\n",
    "plt.imshow(b,cmap=\"gray\")\n"
   ]
  },
  {
   "cell_type": "code",
   "execution_count": 70,
   "metadata": {},
   "outputs": [
    {
     "data": {
      "text/plain": [
       "<matplotlib.image.AxesImage at 0x1096fa898>"
      ]
     },
     "execution_count": 70,
     "metadata": {},
     "output_type": "execute_result"
    },
    {
     "data": {
      "image/png": "[encoded data removed]",
      "text/plain": [
       "<matplotlib.figure.Figure at 0x117f1c6a0>"
      ]
     },
     "metadata": {},
     "output_type": "display_data"
    }
   ],
   "source": [
    "c = extract_biggect_component(b)\n",
    "plt.imshow(c,cmap=\"gray\")"
   ]
  },
  {
   "cell_type": "code",
   "execution_count": 71,
   "metadata": {},
   "outputs": [
    {
     "data": {
      "text/plain": [
       "<matplotlib.image.AxesImage at 0x103a75710>"
      ]
     },
     "execution_count": 71,
     "metadata": {},
     "output_type": "execute_result"
    },
    {
     "data": {
      "image/png": "[encoded data removed]",
      "text/plain": [
       "<matplotlib.figure.Figure at 0x117f1c240>"
      ]
     },
     "metadata": {},
     "output_type": "display_data"
    }
   ],
   "source": [
    "original_shape = np.array(np.shape(c))\n",
    "new_shape = ((original_shape/original_shape[0])*24).astype(int)\n",
    "    \n",
    "d = cv2.resize(c,dsize = (new_shape[1],new_shape[0]))\n",
    "plt.imshow(d,cmap=\"gray\")"
   ]
  },
  {
   "cell_type": "code",
   "execution_count": 72,
   "metadata": {},
   "outputs": [
    {
     "data": {
      "text/plain": [
       "(24, 41)"
      ]
     },
     "execution_count": 72,
     "metadata": {},
     "output_type": "execute_result"
    }
   ],
   "source": [
    "np.shape(d)"
   ]
  },
  {
   "cell_type": "code",
   "execution_count": 73,
   "metadata": {},
   "outputs": [
    {
     "data": {
      "text/plain": [
       "<matplotlib.image.AxesImage at 0x118248358>"
      ]
     },
     "execution_count": 73,
     "metadata": {},
     "output_type": "execute_result"
    },
    {
     "data": {
      "image/png": "[encoded data removed]",
      "text/plain": [
       "<matplotlib.figure.Figure at 0x117fac710>"
      ]
     },
     "metadata": {},
     "output_type": "display_data"
    }
   ],
   "source": [
    "f = add_border(d,2,0)\n",
    "plt.imshow(f,cmap=\"gray\")"
   ]
  },
  {
   "cell_type": "code",
   "execution_count": 74,
   "metadata": {},
   "outputs": [
    {
     "data": {
      "text/plain": [
       "<matplotlib.image.AxesImage at 0x11829db00>"
      ]
     },
     "execution_count": 74,
     "metadata": {},
     "output_type": "execute_result"
    },
    {
     "data": {
      "image/png": "[encoded data removed]",
      "text/plain": [
       "<matplotlib.figure.Figure at 0x118233588>"
      ]
     },
     "metadata": {},
     "output_type": "display_data"
    }
   ],
   "source": [
    "e = blur_image(f)\n",
    "plt.imshow(e,cmap=\"gray\")"
   ]
  },
  {
   "cell_type": "code",
   "execution_count": 75,
   "metadata": {},
   "outputs": [
    {
     "data": {
      "text/plain": [
       "(28, 45)"
      ]
     },
     "execution_count": 75,
     "metadata": {},
     "output_type": "execute_result"
    }
   ],
   "source": [
    "np.shape(e)"
   ]
  },
  {
   "cell_type": "code",
   "execution_count": 79,
   "metadata": {},
   "outputs": [
    {
     "data": {
      "text/plain": [
       "<matplotlib.image.AxesImage at 0x109954208>"
      ]
     },
     "execution_count": 79,
     "metadata": {},
     "output_type": "execute_result"
    },
    {
     "data": {
      "image/png": "[encoded data removed]",
      "text/plain": [
       "<matplotlib.figure.Figure at 0x1098bda20>"
      ]
     },
     "metadata": {},
     "output_type": "display_data"
    }
   ],
   "source": [
    "plt.imshow(preprocess_multi_letter(img),cmap=\"gray\")"
   ]
  },
  {
   "cell_type": "code",
   "execution_count": null,
   "metadata": {
    "collapsed": true
   },
   "outputs": [],
   "source": []
  }
 ],
 "metadata": {
  "kernelspec": {
   "display_name": "Python 3",
   "language": "python",
   "name": "python3"
  },
  "language_info": {
   "codemirror_mode": {
    "name": "ipython",
    "version": 3
   },
   "file_extension": ".py",
   "mimetype": "text/x-python",
   "name": "python",
   "nbconvert_exporter": "python",
   "pygments_lexer": "ipython3",
   "version": "3.6.4"
  }
 },
 "nbformat": 4,
 "nbformat_minor": 2
}
