{
 "cells": [
  {
   "cell_type": "code",
   "execution_count": 3,
   "metadata": {
    "collapsed": true
   },
   "outputs": [],
   "source": [
    "import os, math, random\n",
    "import numpy as np\n",
    "import matplotlib.pyplot as plt\n",
    "%matplotlib inline\n",
    "import cv2\n",
    "import Augmentor"
   ]
  },
  {
   "cell_type": "code",
   "execution_count": 4,
   "metadata": {
    "collapsed": true
   },
   "outputs": [],
   "source": [
    "data_path = '/Users/Karlsson/Documents/Skola/Handwriting_Recognition/Classification_Improved/Data/Resized_Data/'\n",
    "save_path = '/Users/Karlsson/Documents/Skola/Handwriting_Recognition/Classification_Improved/Data/Augmented_Data_Not_Thinned/'"
   ]
  },
  {
   "cell_type": "code",
   "execution_count": 81,
   "metadata": {},
   "outputs": [
    {
     "name": "stderr",
     "output_type": "stream",
     "text": [
      "\r",
      "Executing Pipeline:   0%|          | 0/600 [00:00<?, ? Samples/s]"
     ]
    },
    {
     "name": "stdout",
     "output_type": "stream",
     "text": [
      "==========\n",
      "Train_Data Zayin\n",
      "==========\n",
      "Initialised with 8 image(s) found.\n",
      "Output directory set to /Users/Karlsson/Documents/Skola/Handwriting_Recognition/Classification_Improved/Data/Augmented_Data_Not_Thinned/Train_Data/Zayin."
     ]
    },
    {
     "name": "stderr",
     "output_type": "stream",
     "text": [
      "Processing <PIL.Image.Image image mode=L size=28x28 at 0x114461588>: 100%|██████████| 600/600 [00:05<00:00, 104.32 Samples/s]\n",
      "Processing <PIL.Image.Image image mode=L size=28x28 at 0x1143C1D68>:   0%|          | 0/600 [00:00<?, ? Samples/s]"
     ]
    },
    {
     "name": "stdout",
     "output_type": "stream",
     "text": [
      "==========\n",
      "Train_Data Pe\n",
      "==========\n",
      "Initialised with 28 image(s) found.\n",
      "Output directory set to /Users/Karlsson/Documents/Skola/Handwriting_Recognition/Classification_Improved/Data/Augmented_Data_Not_Thinned/Train_Data/Pe."
     ]
    },
    {
     "name": "stderr",
     "output_type": "stream",
     "text": [
      "Processing <PIL.Image.Image image mode=L size=28x28 at 0x11B1A36D8>: 100%|██████████| 600/600 [00:05<00:00, 101.28 Samples/s]\n",
      "Executing Pipeline:   0%|          | 0/600 [00:00<?, ? Samples/s]"
     ]
    },
    {
     "name": "stdout",
     "output_type": "stream",
     "text": [
      "==========\n",
      "Train_Data He\n",
      "==========\n",
      "Initialised with 239 image(s) found.\n",
      "Output directory set to /Users/Karlsson/Documents/Skola/Handwriting_Recognition/Classification_Improved/Data/Augmented_Data_Not_Thinned/Train_Data/He."
     ]
    },
    {
     "name": "stderr",
     "output_type": "stream",
     "text": [
      "Processing <PIL.Image.Image image mode=L size=28x28 at 0x11443EB00>: 100%|██████████| 600/600 [00:04<00:00, 139.37 Samples/s]\n"
     ]
    },
    {
     "name": "stdout",
     "output_type": "stream",
     "text": [
      "==========\n",
      "Train_Data Samekh\n",
      "==========\n"
     ]
    },
    {
     "name": "stderr",
     "output_type": "stream",
     "text": [
      "Processing <PIL.Image.Image image mode=L size=28x28 at 0x108799C50>:   0%|          | 0/600 [00:00<?, ? Samples/s]"
     ]
    },
    {
     "name": "stdout",
     "output_type": "stream",
     "text": [
      "Initialised with 239 image(s) found.\n",
      "Output directory set to /Users/Karlsson/Documents/Skola/Handwriting_Recognition/Classification_Improved/Data/Augmented_Data_Not_Thinned/Train_Data/Samekh."
     ]
    },
    {
     "name": "stderr",
     "output_type": "stream",
     "text": [
      "Processing <PIL.Image.Image image mode=L size=28x28 at 0x114498358>: 100%|██████████| 600/600 [00:06<00:00, 94.31 Samples/s] \n",
      "Processing <PIL.Image.Image image mode=L size=28x28 at 0x11B1228D0>:   0%|          | 0/600 [00:00<?, ? Samples/s]"
     ]
    },
    {
     "name": "stdout",
     "output_type": "stream",
     "text": [
      "==========\n",
      "Train_Data Dalet\n",
      "==========\n",
      "Initialised with 71 image(s) found.\n",
      "Output directory set to /Users/Karlsson/Documents/Skola/Handwriting_Recognition/Classification_Improved/Data/Augmented_Data_Not_Thinned/Train_Data/Dalet."
     ]
    },
    {
     "name": "stderr",
     "output_type": "stream",
     "text": [
      "Processing <PIL.Image.Image image mode=L size=28x28 at 0x1087DF7F0>: 100%|██████████| 600/600 [00:05<00:00, 110.15 Samples/s]\n",
      "Processing <PIL.Image.Image image mode=L size=28x28 at 0x11A19A470>:   0%|          | 0/600 [00:00<?, ? Samples/s]"
     ]
    },
    {
     "name": "stdout",
     "output_type": "stream",
     "text": [
      "==========\n",
      "Train_Data Waw\n",
      "==========\n",
      "Initialised with 91 image(s) found.\n",
      "Output directory set to /Users/Karlsson/Documents/Skola/Handwriting_Recognition/Classification_Improved/Data/Augmented_Data_Not_Thinned/Train_Data/Waw."
     ]
    },
    {
     "name": "stderr",
     "output_type": "stream",
     "text": [
      "Processing <PIL.Image.Image image mode=L size=28x28 at 0x11490AF60>: 100%|██████████| 600/600 [00:04<00:00, 129.54 Samples/s]\n",
      "Executing Pipeline:   0%|          | 0/600 [00:00<?, ? Samples/s]"
     ]
    },
    {
     "name": "stdout",
     "output_type": "stream",
     "text": [
      "==========\n",
      "Train_Data Yod\n",
      "==========\n",
      "Initialised with 17 image(s) found.\n",
      "Output directory set to /Users/Karlsson/Documents/Skola/Handwriting_Recognition/Classification_Improved/Data/Augmented_Data_Not_Thinned/Train_Data/Yod."
     ]
    },
    {
     "name": "stderr",
     "output_type": "stream",
     "text": [
      "Processing <PIL.Image.Image image mode=L size=28x28 at 0x11493EBA8>: 100%|██████████| 600/600 [00:05<00:00, 102.61 Samples/s]\n",
      "Processing <PIL.Image.Image image mode=L size=28x28 at 0x114410A58>:   0%|          | 0/600 [00:00<?, ? Samples/s]"
     ]
    },
    {
     "name": "stdout",
     "output_type": "stream",
     "text": [
      "==========\n",
      "Train_Data Pe-final\n",
      "==========\n",
      "Initialised with 11 image(s) found.\n",
      "Output directory set to /Users/Karlsson/Documents/Skola/Handwriting_Recognition/Classification_Improved/Data/Augmented_Data_Not_Thinned/Train_Data/Pe-final."
     ]
    },
    {
     "name": "stderr",
     "output_type": "stream",
     "text": [
      "Processing <PIL.Image.Image image mode=L size=28x28 at 0x11A2A1C18>: 100%|██████████| 600/600 [00:05<00:00, 106.98 Samples/s]\n"
     ]
    },
    {
     "name": "stdout",
     "output_type": "stream",
     "text": [
      "==========\n",
      "Train_Data Nun-medial\n",
      "==========\n",
      "Initialised with 239 image(s) found.\n"
     ]
    },
    {
     "name": "stderr",
     "output_type": "stream",
     "text": [
      "Processing <PIL.Image.Image image mode=L size=28x28 at 0x1143AD2B0>: 100%|██████████| 600/600 [00:05<00:00, 104.57 Samples/s]\n",
      "Executing Pipeline:   0%|          | 0/600 [00:00<?, ? Samples/s]"
     ]
    },
    {
     "name": "stdout",
     "output_type": "stream",
     "text": [
      "Output directory set to /Users/Karlsson/Documents/Skola/Handwriting_Recognition/Classification_Improved/Data/Augmented_Data_Not_Thinned/Train_Data/Nun-medial.==========\n",
      "Train_Data Shin\n",
      "==========\n",
      "Initialised with 239 image(s) found.\n",
      "Output directory set to /Users/Karlsson/Documents/Skola/Handwriting_Recognition/Classification_Improved/Data/Augmented_Data_Not_Thinned/Train_Data/Shin."
     ]
    },
    {
     "name": "stderr",
     "output_type": "stream",
     "text": [
      "Processing <PIL.Image.Image image mode=L size=28x28 at 0x10F354128>: 100%|██████████| 600/600 [00:05<00:00, 105.59 Samples/s]\n",
      "Executing Pipeline:   0%|          | 0/600 [00:00<?, ? Samples/s]"
     ]
    },
    {
     "name": "stdout",
     "output_type": "stream",
     "text": [
      "==========\n",
      "Train_Data Kaf-final\n",
      "==========\n",
      "Initialised with 7 image(s) found.\n",
      "Output directory set to /Users/Karlsson/Documents/Skola/Handwriting_Recognition/Classification_Improved/Data/Augmented_Data_Not_Thinned/Train_Data/Kaf-final."
     ]
    },
    {
     "name": "stderr",
     "output_type": "stream",
     "text": [
      "Processing <PIL.Image.Image image mode=L size=28x28 at 0x114479710>: 100%|██████████| 600/600 [00:05<00:00, 113.04 Samples/s]\n",
      "Executing Pipeline:   0%|          | 0/600 [00:00<?, ? Samples/s]"
     ]
    },
    {
     "name": "stdout",
     "output_type": "stream",
     "text": [
      "==========\n",
      "Train_Data Qof\n",
      "==========\n",
      "Initialised with 211 image(s) found.\n",
      "Output directory set to /Users/Karlsson/Documents/Skola/Handwriting_Recognition/Classification_Improved/Data/Augmented_Data_Not_Thinned/Train_Data/Qof."
     ]
    },
    {
     "name": "stderr",
     "output_type": "stream",
     "text": [
      "Processing <PIL.Image.Image image mode=L size=28x28 at 0x11444E5C0>: 100%|██████████| 600/600 [00:05<00:00, 115.37 Samples/s]\n",
      "Processing <PIL.Image.Image image mode=L size=28x28 at 0x114488A20>:   0%|          | 0/600 [00:00<?, ? Samples/s]"
     ]
    },
    {
     "name": "stdout",
     "output_type": "stream",
     "text": [
      "==========\n",
      "Train_Data Nun-final\n",
      "==========\n",
      "Initialised with 103 image(s) found.\n",
      "Output directory set to /Users/Karlsson/Documents/Skola/Handwriting_Recognition/Classification_Improved/Data/Augmented_Data_Not_Thinned/Train_Data/Nun-final."
     ]
    },
    {
     "name": "stderr",
     "output_type": "stream",
     "text": [
      "Processing <PIL.Image.Image image mode=L size=28x28 at 0x11490A828>: 100%|██████████| 600/600 [00:05<00:00, 116.11 Samples/s]\n",
      "Processing <PIL.Image.Image image mode=L size=28x28 at 0x11B0EAB38>:   0%|          | 0/600 [00:00<?, ? Samples/s]"
     ]
    },
    {
     "name": "stdout",
     "output_type": "stream",
     "text": [
      "==========\n",
      "Train_Data Tsadi-final\n",
      "==========\n",
      "Initialised with 57 image(s) found.\n",
      "Output directory set to /Users/Karlsson/Documents/Skola/Handwriting_Recognition/Classification_Improved/Data/Augmented_Data_Not_Thinned/Train_Data/Tsadi-final."
     ]
    },
    {
     "name": "stderr",
     "output_type": "stream",
     "text": [
      "Processing <PIL.Image.Image image mode=L size=28x28 at 0x1143AFD30>: 100%|██████████| 600/600 [00:04<00:00, 127.30 Samples/s]\n",
      "Executing Pipeline:   0%|          | 0/600 [00:00<?, ? Samples/s]"
     ]
    },
    {
     "name": "stdout",
     "output_type": "stream",
     "text": [
      "==========\n",
      "Train_Data Ayin\n",
      "==========\n",
      "Initialised with 239 image(s) found.\n",
      "Output directory set to /Users/Karlsson/Documents/Skola/Handwriting_Recognition/Classification_Improved/Data/Augmented_Data_Not_Thinned/Train_Data/Ayin."
     ]
    },
    {
     "name": "stderr",
     "output_type": "stream",
     "text": [
      "Processing <PIL.Image.Image image mode=L size=28x28 at 0x114498AC8>: 100%|██████████| 600/600 [00:04<00:00, 133.29 Samples/s]\n",
      "Executing Pipeline:   0%|          | 0/600 [00:00<?, ? Samples/s]"
     ]
    },
    {
     "name": "stdout",
     "output_type": "stream",
     "text": [
      "==========\n",
      "Train_Data Taw\n",
      "==========\n",
      "Initialised with 239 image(s) found.\n",
      "Output directory set to /Users/Karlsson/Documents/Skola/Handwriting_Recognition/Classification_Improved/Data/Augmented_Data_Not_Thinned/Train_Data/Taw."
     ]
    },
    {
     "name": "stderr",
     "output_type": "stream",
     "text": [
      "Processing <PIL.Image.Image image mode=L size=28x28 at 0x1143ADC88>: 100%|██████████| 600/600 [00:05<00:00, 109.14 Samples/s]\n",
      "Executing Pipeline:   0%|          | 0/600 [00:00<?, ? Samples/s]"
     ]
    },
    {
     "name": "stdout",
     "output_type": "stream",
     "text": [
      "==========\n",
      "Train_Data Tet\n",
      "==========\n",
      "Initialised with 239 image(s) found.\n",
      "Output directory set to /Users/Karlsson/Documents/Skola/Handwriting_Recognition/Classification_Improved/Data/Augmented_Data_Not_Thinned/Train_Data/Tet."
     ]
    },
    {
     "name": "stderr",
     "output_type": "stream",
     "text": [
      "Processing <PIL.Image.Image image mode=L size=28x28 at 0x10F3547F0>: 100%|██████████| 600/600 [00:04<00:00, 122.22 Samples/s]\n",
      "Processing <PIL.Image.Image image mode=L size=28x28 at 0x1143AE2E8>:   0%|          | 0/600 [00:00<?, ? Samples/s]"
     ]
    },
    {
     "name": "stdout",
     "output_type": "stream",
     "text": [
      "==========\n",
      "Train_Data Kaf\n",
      "==========\n",
      "Initialised with 153 image(s) found.\n",
      "Output directory set to /Users/Karlsson/Documents/Skola/Handwriting_Recognition/Classification_Improved/Data/Augmented_Data_Not_Thinned/Train_Data/Kaf."
     ]
    },
    {
     "name": "stderr",
     "output_type": "stream",
     "text": [
      "Processing <PIL.Image.Image image mode=L size=28x28 at 0x1085D14A8>: 100%|██████████| 600/600 [00:04<00:00, 122.19 Samples/s]\n",
      "Executing Pipeline:   0%|          | 0/600 [00:00<?, ? Samples/s]"
     ]
    },
    {
     "name": "stdout",
     "output_type": "stream",
     "text": [
      "==========\n",
      "Train_Data Alef\n",
      "==========\n",
      "Initialised with 239 image(s) found.\n",
      "Output directory set to /Users/Karlsson/Documents/Skola/Handwriting_Recognition/Classification_Improved/Data/Augmented_Data_Not_Thinned/Train_Data/Alef."
     ]
    },
    {
     "name": "stderr",
     "output_type": "stream",
     "text": [
      "Processing <PIL.Image.Image image mode=L size=28x28 at 0x1143AD828>: 100%|██████████| 600/600 [00:04<00:00, 125.03 Samples/s]\n",
      "Executing Pipeline:   0%|          | 0/600 [00:00<?, ? Samples/s]"
     ]
    },
    {
     "name": "stdout",
     "output_type": "stream",
     "text": [
      "==========\n",
      "Train_Data Tsadi-medial\n",
      "==========\n",
      "Initialised with 239 image(s) found.\n",
      "Output directory set to /Users/Karlsson/Documents/Skola/Handwriting_Recognition/Classification_Improved/Data/Augmented_Data_Not_Thinned/Train_Data/Tsadi-medial."
     ]
    },
    {
     "name": "stderr",
     "output_type": "stream",
     "text": [
      "Processing <PIL.Image.Image image mode=L size=28x28 at 0x1084474A8>: 100%|██████████| 600/600 [00:05<00:00, 109.76 Samples/s]\n",
      "Executing Pipeline:   0%|          | 0/600 [00:00<?, ? Samples/s]"
     ]
    },
    {
     "name": "stdout",
     "output_type": "stream",
     "text": [
      "==========\n",
      "Train_Data Noise\n",
      "==========\n",
      "Initialised with 35 image(s) found.\n",
      "Output directory set to /Users/Karlsson/Documents/Skola/Handwriting_Recognition/Classification_Improved/Data/Augmented_Data_Not_Thinned/Train_Data/Noise."
     ]
    },
    {
     "name": "stderr",
     "output_type": "stream",
     "text": [
      "Processing <PIL.Image.Image image mode=L size=28x28 at 0x114410940>: 100%|██████████| 600/600 [00:05<00:00, 104.85 Samples/s]\n",
      "Executing Pipeline:   0%|          | 0/600 [00:00<?, ? Samples/s]"
     ]
    },
    {
     "name": "stdout",
     "output_type": "stream",
     "text": [
      "==========\n",
      "Train_Data Lamed\n",
      "==========\n",
      "Initialised with 234 image(s) found.\n",
      "Output directory set to /Users/Karlsson/Documents/Skola/Handwriting_Recognition/Classification_Improved/Data/Augmented_Data_Not_Thinned/Train_Data/Lamed."
     ]
    },
    {
     "name": "stderr",
     "output_type": "stream",
     "text": [
      "Processing <PIL.Image.Image image mode=L size=28x28 at 0x1084625F8>: 100%|██████████| 600/600 [00:04<00:00, 136.28 Samples/s]\n",
      "Executing Pipeline:   0%|          | 0/600 [00:00<?, ? Samples/s]"
     ]
    },
    {
     "name": "stdout",
     "output_type": "stream",
     "text": [
      "==========\n",
      "Train_Data Bet\n",
      "==========\n",
      "Initialised with 239 image(s) found.\n",
      "Output directory set to /Users/Karlsson/Documents/Skola/Handwriting_Recognition/Classification_Improved/Data/Augmented_Data_Not_Thinned/Train_Data/Bet."
     ]
    },
    {
     "name": "stderr",
     "output_type": "stream",
     "text": [
      "Processing <PIL.Image.Image image mode=L size=28x28 at 0x1085CC438>: 100%|██████████| 600/600 [00:04<00:00, 120.34 Samples/s]\n",
      "Executing Pipeline:   0%|          | 0/600 [00:00<?, ? Samples/s]"
     ]
    },
    {
     "name": "stdout",
     "output_type": "stream",
     "text": [
      "==========\n",
      "Train_Data Het\n",
      "==========\n",
      "Initialised with 239 image(s) found.\n",
      "Output directory set to /Users/Karlsson/Documents/Skola/Handwriting_Recognition/Classification_Improved/Data/Augmented_Data_Not_Thinned/Train_Data/Het."
     ]
    },
    {
     "name": "stderr",
     "output_type": "stream",
     "text": [
      "Processing <PIL.Image.Image image mode=L size=28x28 at 0x11B0BC320>: 100%|██████████| 600/600 [00:04<00:00, 132.37 Samples/s]\n",
      "Executing Pipeline:   0%|          | 0/600 [00:00<?, ? Samples/s]"
     ]
    },
    {
     "name": "stdout",
     "output_type": "stream",
     "text": [
      "==========\n",
      "Train_Data Mem-medial\n",
      "==========\n",
      "Initialised with 239 image(s) found.\n",
      "Output directory set to /Users/Karlsson/Documents/Skola/Handwriting_Recognition/Classification_Improved/Data/Augmented_Data_Not_Thinned/Train_Data/Mem-medial."
     ]
    },
    {
     "name": "stderr",
     "output_type": "stream",
     "text": [
      "Processing <PIL.Image.Image image mode=L size=28x28 at 0x1085CC4E0>: 100%|██████████| 600/600 [00:04<00:00, 130.78 Samples/s]\n",
      "Processing <PIL.Image.Image image mode=L size=28x28 at 0x108462F98>:   0%|          | 0/600 [00:00<?, ? Samples/s]"
     ]
    },
    {
     "name": "stdout",
     "output_type": "stream",
     "text": [
      "==========\n",
      "Train_Data Multi-letter\n",
      "==========\n",
      "Initialised with 36 image(s) found.\n",
      "Output directory set to /Users/Karlsson/Documents/Skola/Handwriting_Recognition/Classification_Improved/Data/Augmented_Data_Not_Thinned/Train_Data/Multi-letter."
     ]
    },
    {
     "name": "stderr",
     "output_type": "stream",
     "text": [
      "Processing <PIL.Image.Image image mode=L size=28x28 at 0x11A354E80>: 100%|██████████| 600/600 [00:04<00:00, 125.85 Samples/s]\n",
      "Processing <PIL.Image.Image image mode=L size=28x28 at 0x114479630>:   0%|          | 0/600 [00:00<?, ? Samples/s]"
     ]
    },
    {
     "name": "stdout",
     "output_type": "stream",
     "text": [
      "==========\n",
      "Train_Data Gimel\n",
      "==========\n",
      "Initialised with 239 image(s) found.\n",
      "Output directory set to /Users/Karlsson/Documents/Skola/Handwriting_Recognition/Classification_Improved/Data/Augmented_Data_Not_Thinned/Train_Data/Gimel."
     ]
    },
    {
     "name": "stderr",
     "output_type": "stream",
     "text": [
      "Processing <PIL.Image.Image image mode=L size=28x28 at 0x10D3DD5C0>: 100%|██████████| 600/600 [00:04<00:00, 127.50 Samples/s]\n",
      "Executing Pipeline:   0%|          | 0/600 [00:00<?, ? Samples/s]"
     ]
    },
    {
     "name": "stdout",
     "output_type": "stream",
     "text": [
      "==========\n",
      "Train_Data Mem\n",
      "==========\n",
      "Initialised with 239 image(s) found.\n",
      "Output directory set to /Users/Karlsson/Documents/Skola/Handwriting_Recognition/Classification_Improved/Data/Augmented_Data_Not_Thinned/Train_Data/Mem."
     ]
    },
    {
     "name": "stderr",
     "output_type": "stream",
     "text": [
      "Processing <PIL.Image.Image image mode=L size=28x28 at 0x11493E978>: 100%|██████████| 600/600 [00:04<00:00, 142.27 Samples/s]\n",
      "Executing Pipeline:   0%|          | 0/600 [00:00<?, ? Samples/s]"
     ]
    },
    {
     "name": "stdout",
     "output_type": "stream",
     "text": [
      "==========\n",
      "Train_Data Resh\n",
      "==========\n",
      "Initialised with 61 image(s) found.\n",
      "Output directory set to /Users/Karlsson/Documents/Skola/Handwriting_Recognition/Classification_Improved/Data/Augmented_Data_Not_Thinned/Train_Data/Resh."
     ]
    },
    {
     "name": "stderr",
     "output_type": "stream",
     "text": [
      "Processing <PIL.Image.Image image mode=L size=28x28 at 0x10F3A00B8>: 100%|██████████| 600/600 [00:04<00:00, 143.29 Samples/s]\n",
      "Processing <PIL.Image.Image image mode=L size=28x28 at 0x11A4612E8>:   0%|          | 1/200 [00:00<00:33,  5.85 Samples/s]"
     ]
    },
    {
     "name": "stdout",
     "output_type": "stream",
     "text": [
      "==========\n",
      "Test_Data Zayin\n",
      "==========\n",
      "Initialised with 4 image(s) found.\n",
      "Output directory set to /Users/Karlsson/Documents/Skola/Handwriting_Recognition/Classification_Improved/Data/Augmented_Data_Not_Thinned/Test_Data/Zayin."
     ]
    },
    {
     "name": "stderr",
     "output_type": "stream",
     "text": [
      "Processing <PIL.Image.Image image mode=L size=28x28 at 0x11A21C4A8>: 100%|██████████| 200/200 [00:01<00:00, 109.50 Samples/s]\n",
      "Processing <PIL.Image.Image image mode=L size=28x28 at 0x11444EBA8>:   0%|          | 1/200 [00:00<00:30,  6.57 Samples/s]"
     ]
    },
    {
     "name": "stdout",
     "output_type": "stream",
     "text": [
      "==========\n",
      "Test_Data Pe\n",
      "==========\n",
      "Initialised with 9 image(s) found.\n",
      "Output directory set to /Users/Karlsson/Documents/Skola/Handwriting_Recognition/Classification_Improved/Data/Augmented_Data_Not_Thinned/Test_Data/Pe."
     ]
    },
    {
     "name": "stderr",
     "output_type": "stream",
     "text": [
      "Processing <PIL.Image.Image image mode=L size=28x28 at 0x11B12D4E0>: 100%|██████████| 200/200 [00:01<00:00, 116.26 Samples/s]\n",
      "Processing <PIL.Image.Image image mode=L size=28x28 at 0x107845C50>:   0%|          | 0/200 [00:00<?, ? Samples/s]"
     ]
    },
    {
     "name": "stdout",
     "output_type": "stream",
     "text": [
      "==========\n",
      "Test_Data He\n",
      "==========\n",
      "Initialised with 61 image(s) found.\n",
      "Output directory set to /Users/Karlsson/Documents/Skola/Handwriting_Recognition/Classification_Improved/Data/Augmented_Data_Not_Thinned/Test_Data/He."
     ]
    },
    {
     "name": "stderr",
     "output_type": "stream",
     "text": [
      "Processing <PIL.Image.Image image mode=L size=28x28 at 0x114430470>: 100%|██████████| 200/200 [00:01<00:00, 103.19 Samples/s]\n",
      "Processing <PIL.Image.Image image mode=L size=28x28 at 0x114401470>:   0%|          | 0/200 [00:00<?, ? Samples/s]"
     ]
    },
    {
     "name": "stdout",
     "output_type": "stream",
     "text": [
      "==========\n",
      "Test_Data Samekh\n",
      "==========\n",
      "Initialised with 61 image(s) found.\n",
      "Output directory set to /Users/Karlsson/Documents/Skola/Handwriting_Recognition/Classification_Improved/Data/Augmented_Data_Not_Thinned/Test_Data/Samekh."
     ]
    },
    {
     "name": "stderr",
     "output_type": "stream",
     "text": [
      "Processing <PIL.Image.Image image mode=L size=28x28 at 0x1143B3208>: 100%|██████████| 200/200 [00:01<00:00, 109.15 Samples/s]\n",
      "Processing <PIL.Image.Image image mode=L size=28x28 at 0x107862358>:   0%|          | 0/200 [00:00<?, ? Samples/s]"
     ]
    },
    {
     "name": "stdout",
     "output_type": "stream",
     "text": [
      "==========\n",
      "Test_Data Dalet\n",
      "==========\n",
      "Initialised with 20 image(s) found.\n",
      "Output directory set to /Users/Karlsson/Documents/Skola/Handwriting_Recognition/Classification_Improved/Data/Augmented_Data_Not_Thinned/Test_Data/Dalet."
     ]
    },
    {
     "name": "stderr",
     "output_type": "stream",
     "text": [
      "Processing <PIL.Image.Image image mode=L size=28x28 at 0x1085B99E8>: 100%|██████████| 200/200 [00:01<00:00, 128.91 Samples/s]\n",
      "Processing <PIL.Image.Image image mode=L size=28x28 at 0x107845B70>:   0%|          | 0/200 [00:00<?, ? Samples/s]"
     ]
    },
    {
     "name": "stdout",
     "output_type": "stream",
     "text": [
      "==========\n",
      "Test_Data Waw\n",
      "==========\n",
      "Initialised with 25 image(s) found.\n",
      "Output directory set to /Users/Karlsson/Documents/Skola/Handwriting_Recognition/Classification_Improved/Data/Augmented_Data_Not_Thinned/Test_Data/Waw."
     ]
    },
    {
     "name": "stderr",
     "output_type": "stream",
     "text": [
      "Processing <PIL.Image.Image image mode=L size=28x28 at 0x114430F60>: 100%|██████████| 200/200 [00:01<00:00, 105.28 Samples/s]\n",
      "Processing <PIL.Image.Image image mode=L size=28x28 at 0x114401D30>:   0%|          | 0/200 [00:00<?, ? Samples/s]"
     ]
    },
    {
     "name": "stdout",
     "output_type": "stream",
     "text": [
      "==========\n",
      "Test_Data Yod\n",
      "==========\n",
      "Initialised with 6 image(s) found.\n",
      "Output directory set to /Users/Karlsson/Documents/Skola/Handwriting_Recognition/Classification_Improved/Data/Augmented_Data_Not_Thinned/Test_Data/Yod."
     ]
    },
    {
     "name": "stderr",
     "output_type": "stream",
     "text": [
      "Processing <PIL.Image.Image image mode=L size=28x28 at 0x11A21C6D8>: 100%|██████████| 200/200 [00:01<00:00, 129.99 Samples/s]\n",
      "Processing <PIL.Image.Image image mode=L size=28x28 at 0x1085B9240>:   0%|          | 1/200 [00:00<00:34,  5.75 Samples/s]"
     ]
    },
    {
     "name": "stdout",
     "output_type": "stream",
     "text": [
      "==========\n",
      "Test_Data Pe-final\n",
      "==========\n",
      "Initialised with 4 image(s) found.\n",
      "Output directory set to /Users/Karlsson/Documents/Skola/Handwriting_Recognition/Classification_Improved/Data/Augmented_Data_Not_Thinned/Test_Data/Pe-final."
     ]
    },
    {
     "name": "stderr",
     "output_type": "stream",
     "text": [
      "Processing <PIL.Image.Image image mode=L size=28x28 at 0x107830E48>: 100%|██████████| 200/200 [00:01<00:00, 136.08 Samples/s]\n",
      "Processing <PIL.Image.Image image mode=L size=28x28 at 0x11A1ACFD0>:   0%|          | 0/200 [00:00<?, ? Samples/s]"
     ]
    },
    {
     "name": "stdout",
     "output_type": "stream",
     "text": [
      "==========\n",
      "Test_Data Nun-medial\n",
      "==========\n",
      "Initialised with 61 image(s) found.\n",
      "Output directory set to /Users/Karlsson/Documents/Skola/Handwriting_Recognition/Classification_Improved/Data/Augmented_Data_Not_Thinned/Test_Data/Nun-medial."
     ]
    },
    {
     "name": "stderr",
     "output_type": "stream",
     "text": [
      "Processing <PIL.Image.Image image mode=L size=28x28 at 0x10D3DD898>: 100%|██████████| 200/200 [00:01<00:00, 137.23 Samples/s]\n",
      "Processing <PIL.Image.Image image mode=L size=28x28 at 0x107830BA8>:   0%|          | 1/200 [00:00<00:29,  6.81 Samples/s]"
     ]
    },
    {
     "name": "stdout",
     "output_type": "stream",
     "text": [
      "==========\n",
      "Test_Data Shin\n",
      "==========\n",
      "Initialised with 61 image(s) found.\n",
      "Output directory set to /Users/Karlsson/Documents/Skola/Handwriting_Recognition/Classification_Improved/Data/Augmented_Data_Not_Thinned/Test_Data/Shin."
     ]
    },
    {
     "name": "stderr",
     "output_type": "stream",
     "text": [
      "Processing <PIL.Image.Image image mode=L size=28x28 at 0x107862128>: 100%|██████████| 200/200 [00:01<00:00, 131.61 Samples/s]\n",
      "Processing <PIL.Image.Image image mode=L size=28x28 at 0x10F3B76A0>:   0%|          | 1/200 [00:00<00:28,  6.95 Samples/s]"
     ]
    },
    {
     "name": "stdout",
     "output_type": "stream",
     "text": [
      "==========\n",
      "Test_Data Kaf-final\n",
      "==========\n",
      "Initialised with 3 image(s) found.\n",
      "Output directory set to /Users/Karlsson/Documents/Skola/Handwriting_Recognition/Classification_Improved/Data/Augmented_Data_Not_Thinned/Test_Data/Kaf-final."
     ]
    },
    {
     "name": "stderr",
     "output_type": "stream",
     "text": [
      "Processing <PIL.Image.Image image mode=L size=28x28 at 0x10F3B79E8>: 100%|██████████| 200/200 [00:01<00:00, 126.49 Samples/s]\n",
      "Processing <PIL.Image.Image image mode=L size=28x28 at 0x10866D438>:   0%|          | 0/200 [00:00<?, ? Samples/s]"
     ]
    },
    {
     "name": "stdout",
     "output_type": "stream",
     "text": [
      "==========\n",
      "Test_Data Qof\n",
      "==========\n",
      "Initialised with 54 image(s) found.\n",
      "Output directory set to /Users/Karlsson/Documents/Skola/Handwriting_Recognition/Classification_Improved/Data/Augmented_Data_Not_Thinned/Test_Data/Qof."
     ]
    },
    {
     "name": "stderr",
     "output_type": "stream",
     "text": [
      "Processing <PIL.Image.Image image mode=L size=28x28 at 0x11A1ACDD8>: 100%|██████████| 200/200 [00:01<00:00, 129.63 Samples/s]\n",
      "Processing <PIL.Image.Image image mode=L size=28x28 at 0x107862470>:   0%|          | 1/200 [00:00<00:33,  6.01 Samples/s]"
     ]
    },
    {
     "name": "stdout",
     "output_type": "stream",
     "text": [
      "==========\n",
      "Test_Data Nun-final\n",
      "==========\n",
      "Initialised with 27 image(s) found.\n",
      "Output directory set to /Users/Karlsson/Documents/Skola/Handwriting_Recognition/Classification_Improved/Data/Augmented_Data_Not_Thinned/Test_Data/Nun-final."
     ]
    },
    {
     "name": "stderr",
     "output_type": "stream",
     "text": [
      "Processing <PIL.Image.Image image mode=L size=28x28 at 0x10866D668>: 100%|██████████| 200/200 [00:01<00:00, 118.80 Samples/s]\n",
      "Processing <PIL.Image.Image image mode=L size=28x28 at 0x10F253CF8>:   0%|          | 0/200 [00:00<?, ? Samples/s]"
     ]
    },
    {
     "name": "stdout",
     "output_type": "stream",
     "text": [
      "==========\n",
      "Test_Data Tsadi-final\n",
      "==========\n",
      "Initialised with 16 image(s) found.\n",
      "Output directory set to /Users/Karlsson/Documents/Skola/Handwriting_Recognition/Classification_Improved/Data/Augmented_Data_Not_Thinned/Test_Data/Tsadi-final."
     ]
    },
    {
     "name": "stderr",
     "output_type": "stream",
     "text": [
      "Processing <PIL.Image.Image image mode=L size=28x28 at 0x10F3B7B38>: 100%|██████████| 200/200 [00:01<00:00, 109.19 Samples/s]\n",
      "Processing <PIL.Image.Image image mode=L size=28x28 at 0x11A461F60>:   0%|          | 0/200 [00:00<?, ? Samples/s]"
     ]
    },
    {
     "name": "stdout",
     "output_type": "stream",
     "text": [
      "==========\n",
      "Test_Data Ayin\n",
      "==========\n",
      "Initialised with 61 image(s) found.\n",
      "Output directory set to /Users/Karlsson/Documents/Skola/Handwriting_Recognition/Classification_Improved/Data/Augmented_Data_Not_Thinned/Test_Data/Ayin."
     ]
    },
    {
     "name": "stderr",
     "output_type": "stream",
     "text": [
      "Processing <PIL.Image.Image image mode=L size=28x28 at 0x114430CC0>: 100%|██████████| 200/200 [00:01<00:00, 122.77 Samples/s]\n",
      "Processing <PIL.Image.Image image mode=L size=28x28 at 0x10866DBE0>:   0%|          | 0/200 [00:00<?, ? Samples/s]"
     ]
    },
    {
     "name": "stdout",
     "output_type": "stream",
     "text": [
      "==========\n",
      "Test_Data Taw\n",
      "==========\n",
      "Initialised with 61 image(s) found.\n",
      "Output directory set to /Users/Karlsson/Documents/Skola/Handwriting_Recognition/Classification_Improved/Data/Augmented_Data_Not_Thinned/Test_Data/Taw."
     ]
    },
    {
     "name": "stderr",
     "output_type": "stream",
     "text": [
      "Processing <PIL.Image.Image image mode=L size=28x28 at 0x10866DC50>: 100%|██████████| 200/200 [00:01<00:00, 113.32 Samples/s]\n",
      "Executing Pipeline:   0%|          | 0/200 [00:00<?, ? Samples/s]"
     ]
    },
    {
     "name": "stdout",
     "output_type": "stream",
     "text": [
      "==========\n",
      "Test_Data Tet\n",
      "==========\n",
      "Initialised with 61 image(s) found.\n",
      "Output directory set to /Users/Karlsson/Documents/Skola/Handwriting_Recognition/Classification_Improved/Data/Augmented_Data_Not_Thinned/Test_Data/Tet."
     ]
    },
    {
     "name": "stderr",
     "output_type": "stream",
     "text": [
      "Processing <PIL.Image.Image image mode=L size=28x28 at 0x11444E6A0>: 100%|██████████| 200/200 [00:01<00:00, 120.97 Samples/s]\n",
      "Processing <PIL.Image.Image image mode=L size=28x28 at 0x1085B9BE0>:   0%|          | 1/200 [00:00<00:26,  7.52 Samples/s]"
     ]
    },
    {
     "name": "stdout",
     "output_type": "stream",
     "text": [
      "==========\n",
      "Test_Data Kaf\n",
      "==========\n",
      "Initialised with 40 image(s) found.\n",
      "Output directory set to /Users/Karlsson/Documents/Skola/Handwriting_Recognition/Classification_Improved/Data/Augmented_Data_Not_Thinned/Test_Data/Kaf."
     ]
    },
    {
     "name": "stderr",
     "output_type": "stream",
     "text": [
      "Processing <PIL.Image.Image image mode=L size=28x28 at 0x10866DB70>: 100%|██████████| 200/200 [00:01<00:00, 108.25 Samples/s]\n",
      "Processing <PIL.Image.Image image mode=L size=28x28 at 0x10F253D30>:   0%|          | 0/200 [00:00<?, ? Samples/s]"
     ]
    },
    {
     "name": "stdout",
     "output_type": "stream",
     "text": [
      "==========\n",
      "Test_Data Alef\n",
      "==========\n",
      "Initialised with 60 image(s) found.\n",
      "Output directory set to /Users/Karlsson/Documents/Skola/Handwriting_Recognition/Classification_Improved/Data/Augmented_Data_Not_Thinned/Test_Data/Alef."
     ]
    },
    {
     "name": "stderr",
     "output_type": "stream",
     "text": [
      "Processing <PIL.Image.Image image mode=L size=28x28 at 0x107862A58>: 100%|██████████| 200/200 [00:01<00:00, 87.34 Samples/s]\n",
      "Processing <PIL.Image.Image image mode=L size=28x28 at 0x11B12DF28>:   0%|          | 0/200 [00:00<?, ? Samples/s]"
     ]
    },
    {
     "name": "stdout",
     "output_type": "stream",
     "text": [
      "==========\n",
      "Test_Data Tsadi-medial\n",
      "==========\n",
      "Initialised with 61 image(s) found.\n",
      "Output directory set to /Users/Karlsson/Documents/Skola/Handwriting_Recognition/Classification_Improved/Data/Augmented_Data_Not_Thinned/Test_Data/Tsadi-medial."
     ]
    },
    {
     "name": "stderr",
     "output_type": "stream",
     "text": [
      "Processing <PIL.Image.Image image mode=L size=28x28 at 0x10866DB38>: 100%|██████████| 200/200 [00:01<00:00, 120.20 Samples/s]\n",
      "Processing <PIL.Image.Image image mode=L size=28x28 at 0x11A461CF8>:   0%|          | 0/200 [00:00<?, ? Samples/s]"
     ]
    },
    {
     "name": "stdout",
     "output_type": "stream",
     "text": [
      "==========\n",
      "Test_Data Noise\n",
      "==========\n",
      "Initialised with 14 image(s) found.\n",
      "Output directory set to /Users/Karlsson/Documents/Skola/Handwriting_Recognition/Classification_Improved/Data/Augmented_Data_Not_Thinned/Test_Data/Noise."
     ]
    },
    {
     "name": "stderr",
     "output_type": "stream",
     "text": [
      "Processing <PIL.Image.Image image mode=L size=28x28 at 0x10D3DD828>: 100%|██████████| 200/200 [00:01<00:00, 111.27 Samples/s]\n",
      "Processing <PIL.Image.Image image mode=L size=28x28 at 0x11444EE48>:   0%|          | 0/200 [00:00<?, ? Samples/s]"
     ]
    },
    {
     "name": "stdout",
     "output_type": "stream",
     "text": [
      "==========\n",
      "Test_Data Lamed\n",
      "==========\n",
      "Initialised with 60 image(s) found.\n",
      "Output directory set to /Users/Karlsson/Documents/Skola/Handwriting_Recognition/Classification_Improved/Data/Augmented_Data_Not_Thinned/Test_Data/Lamed."
     ]
    },
    {
     "name": "stderr",
     "output_type": "stream",
     "text": [
      "Processing <PIL.Image.Image image mode=L size=28x28 at 0x11B12D4A8>: 100%|██████████| 200/200 [00:01<00:00, 90.90 Samples/s]\n",
      "Processing <PIL.Image.Image image mode=L size=28x28 at 0x11A1AC208>:   0%|          | 0/200 [00:00<?, ? Samples/s]"
     ]
    },
    {
     "name": "stdout",
     "output_type": "stream",
     "text": [
      "==========\n",
      "Test_Data Bet\n",
      "==========\n",
      "Initialised with 61 image(s) found.\n",
      "Output directory set to /Users/Karlsson/Documents/Skola/Handwriting_Recognition/Classification_Improved/Data/Augmented_Data_Not_Thinned/Test_Data/Bet."
     ]
    },
    {
     "name": "stderr",
     "output_type": "stream",
     "text": [
      "Processing <PIL.Image.Image image mode=L size=28x28 at 0x11B12DDD8>: 100%|██████████| 200/200 [00:01<00:00, 106.33 Samples/s]\n",
      "Processing <PIL.Image.Image image mode=L size=28x28 at 0x10F3B7C88>:   0%|          | 0/200 [00:00<?, ? Samples/s]"
     ]
    },
    {
     "name": "stdout",
     "output_type": "stream",
     "text": [
      "==========\n",
      "Test_Data Het\n",
      "==========\n",
      "Initialised with 61 image(s) found.\n",
      "Output directory set to /Users/Karlsson/Documents/Skola/Handwriting_Recognition/Classification_Improved/Data/Augmented_Data_Not_Thinned/Test_Data/Het."
     ]
    },
    {
     "name": "stderr",
     "output_type": "stream",
     "text": [
      "Processing <PIL.Image.Image image mode=L size=28x28 at 0x10866DB38>: 100%|██████████| 200/200 [00:01<00:00, 111.10 Samples/s]\n",
      "Processing <PIL.Image.Image image mode=L size=28x28 at 0x1067D15C0>:   0%|          | 0/200 [00:00<?, ? Samples/s]"
     ]
    },
    {
     "name": "stdout",
     "output_type": "stream",
     "text": [
      "==========\n",
      "Test_Data Mem-medial\n",
      "==========\n",
      "Initialised with 61 image(s) found.\n",
      "Output directory set to /Users/Karlsson/Documents/Skola/Handwriting_Recognition/Classification_Improved/Data/Augmented_Data_Not_Thinned/Test_Data/Mem-medial."
     ]
    },
    {
     "name": "stderr",
     "output_type": "stream",
     "text": [
      "Processing <PIL.Image.Image image mode=L size=28x28 at 0x11B12DC50>: 100%|██████████| 200/200 [00:02<00:00, 94.72 Samples/s]\n",
      "Processing <PIL.Image.Image image mode=L size=28x28 at 0x10D3DDA20>:   0%|          | 1/200 [00:00<00:31,  6.31 Samples/s]"
     ]
    },
    {
     "name": "stdout",
     "output_type": "stream",
     "text": [
      "==========\n",
      "Test_Data Multi-letter\n",
      "==========\n",
      "Initialised with 7 image(s) found.\n",
      "Output directory set to /Users/Karlsson/Documents/Skola/Handwriting_Recognition/Classification_Improved/Data/Augmented_Data_Not_Thinned/Test_Data/Multi-letter."
     ]
    },
    {
     "name": "stderr",
     "output_type": "stream",
     "text": [
      "Processing <PIL.Image.Image image mode=L size=28x28 at 0x114401F28>: 100%|██████████| 200/200 [00:01<00:00, 124.71 Samples/s]\n",
      "Processing <PIL.Image.Image image mode=L size=28x28 at 0x10866D668>:   0%|          | 0/200 [00:00<?, ? Samples/s]"
     ]
    },
    {
     "name": "stdout",
     "output_type": "stream",
     "text": [
      "==========\n",
      "Test_Data Gimel\n",
      "==========\n",
      "Initialised with 61 image(s) found.\n",
      "Output directory set to /Users/Karlsson/Documents/Skola/Handwriting_Recognition/Classification_Improved/Data/Augmented_Data_Not_Thinned/Test_Data/Gimel."
     ]
    },
    {
     "name": "stderr",
     "output_type": "stream",
     "text": [
      "Processing <PIL.Image.Image image mode=L size=28x28 at 0x1067D19E8>: 100%|██████████| 200/200 [00:02<00:00, 98.18 Samples/s]\n",
      "Processing <PIL.Image.Image image mode=L size=28x28 at 0x10682D9E8>:   0%|          | 1/200 [00:00<00:30,  6.58 Samples/s]"
     ]
    },
    {
     "name": "stdout",
     "output_type": "stream",
     "text": [
      "==========\n",
      "Test_Data Mem\n",
      "==========\n",
      "Initialised with 61 image(s) found.\n",
      "Output directory set to /Users/Karlsson/Documents/Skola/Handwriting_Recognition/Classification_Improved/Data/Augmented_Data_Not_Thinned/Test_Data/Mem."
     ]
    },
    {
     "name": "stderr",
     "output_type": "stream",
     "text": [
      "Processing <PIL.Image.Image image mode=L size=28x28 at 0x11444E358>: 100%|██████████| 200/200 [00:01<00:00, 129.25 Samples/s]\n",
      "Processing <PIL.Image.Image image mode=L size=28x28 at 0x10F3B7630>:   0%|          | 1/200 [00:00<00:27,  7.36 Samples/s]"
     ]
    },
    {
     "name": "stdout",
     "output_type": "stream",
     "text": [
      "==========\n",
      "Test_Data Resh\n",
      "==========\n",
      "Initialised with 17 image(s) found.\n",
      "Output directory set to /Users/Karlsson/Documents/Skola/Handwriting_Recognition/Classification_Improved/Data/Augmented_Data_Not_Thinned/Test_Data/Resh."
     ]
    },
    {
     "name": "stderr",
     "output_type": "stream",
     "text": [
      "Processing <PIL.Image.Image image mode=L size=28x28 at 0x11A1ACDA0>: 100%|██████████| 200/200 [00:01<00:00, 133.34 Samples/s]\n"
     ]
    },
    {
     "name": "stdout",
     "output_type": "stream",
     "text": [
      "complete\n"
     ]
    }
   ],
   "source": [
    "for super_folder in ['Train_Data','Test_Data']:\n",
    "    for letter in [x for x in os.listdir(data_path+super_folder)if not x.startswith(\".\")]:\n",
    "        print(\"==========\")\n",
    "        print(super_folder,letter)\n",
    "        print(\"==========\")\n",
    "        if(not os.path.isdir(save_path+super_folder+\"/\"+letter)):\n",
    "                os.system(\"mkdir \" + save_path + super_folder+\"/\"+letter)\n",
    "        \n",
    "        \n",
    "        input_folder = data_path+super_folder+\"/\"+letter\n",
    "        output_folder = save_path+super_folder+\"/\"+letter\n",
    "        \n",
    "        \n",
    "        \n",
    "        pipe = Augmentor.Pipeline(source_directory=input_folder,output_directory=output_folder)\n",
    "        \n",
    "        pipe.random_distortion(0.6,2,2,8)\n",
    "        pipe.rotate(0.6,10,10)\n",
    "        pipe.skew(0.6,0.1)\n",
    "        pipe.zoom(1,0.7,0.8)\n",
    "    \n",
    "        if(super_folder == 'Train_Data'):\n",
    "            sample_size = 600\n",
    "        else:\n",
    "            sample_size = 200\n",
    "            \n",
    "        pipe.sample(sample_size)\n",
    "        \n",
    "\n",
    "\n",
    "print(\"complete\")"
   ]
  },
  {
   "cell_type": "code",
   "execution_count": 30,
   "metadata": {},
   "outputs": [
    {
     "name": "stderr",
     "output_type": "stream",
     "text": [
      "Processing <PIL.Image.Image image mode=L size=28x28 at 0x11A8225C0>: 100%|██████████| 1/1 [00:00<00:00, 128.64 Samples/s]"
     ]
    },
    {
     "name": "stdout",
     "output_type": "stream",
     "text": [
      "Initialised with 1 image(s) found.\n",
      "Output directory set to Test_Images/input/../output/.(28, 28)\n"
     ]
    },
    {
     "name": "stderr",
     "output_type": "stream",
     "text": [
      "\n"
     ]
    },
    {
     "data": {
      "image/png": "[encoded data removed]",
      "text/plain": [
       "<matplotlib.figure.Figure at 0x11a825940>"
      ]
     },
     "metadata": {},
     "output_type": "display_data"
    }
   ],
   "source": [
    "os.system(\"rm -R Test_Images/output/*\")\n",
    "pipe = Augmentor.Pipeline(source_directory=\"Test_Images/input/\",output_directory=\"../output/\")\n",
    "# Add operations to the pipeline as normal:\n",
    "pipe.random_distortion(1,2,2,8)\n",
    "pipe.rotate(1,10,10)\n",
    "pipe.skew(1,0.1)\n",
    "pipe.zoom(1,0.8,0.8)\n",
    "\n",
    "\n",
    "pipe.sample(1)\n",
    "plot()\n"
   ]
  },
  {
   "cell_type": "code",
   "execution_count": 14,
   "metadata": {
    "collapsed": true
   },
   "outputs": [],
   "source": [
    "def plot():\n",
    "    img = cv2.imread(\"Test_Images/input/Mem_162.png\",0)\n",
    "    aug = cv2.imread(\"Test_Images/output/\"+ random.choice([x for x in os.listdir(\"Test_Images/output/\") if x.endswith(\".png\")]),0)\n",
    "    print(np.shape(img))\n",
    "    plt.subplot(121)\n",
    "    plt.imshow(img,cmap=\"gray\")\n",
    "    plt.subplot(122)\n",
    "    plt.imshow(aug,cmap=\"gray\")"
   ]
  },
  {
   "cell_type": "code",
   "execution_count": 15,
   "metadata": {},
   "outputs": [
    {
     "name": "stdout",
     "output_type": "stream",
     "text": [
      "(28, 28)\n"
     ]
    },
    {
     "data": {
      "image/png": "[encoded data removed]",
      "text/plain": [
       "<matplotlib.figure.Figure at 0x11a094eb8>"
      ]
     },
     "metadata": {},
     "output_type": "display_data"
    }
   ],
   "source": [
    "plot()"
   ]
  },
  {
   "cell_type": "code",
   "execution_count": null,
   "metadata": {
    "collapsed": true
   },
   "outputs": [],
   "source": []
  }
 ],
 "metadata": {
  "kernelspec": {
   "display_name": "Python 3",
   "language": "python",
   "name": "python3"
  },
  "language_info": {
   "codemirror_mode": {
    "name": "ipython",
    "version": 3
   },
   "file_extension": ".py",
   "mimetype": "text/x-python",
   "name": "python",
   "nbconvert_exporter": "python",
   "pygments_lexer": "ipython3",
   "version": "3.6.4"
  }
 },
 "nbformat": 4,
 "nbformat_minor": 2
}
