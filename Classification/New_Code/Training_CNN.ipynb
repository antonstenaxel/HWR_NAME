{
 "cells": [
  {
   "cell_type": "code",
   "execution_count": null,
   "metadata": {},
   "outputs": [],
   "source": [
    "import tensorflow as tf\n",
    "import keras\n",
    "from keras.models import Sequential\n",
    "from keras.preprocessing.image import ImageDataGenerator\n",
    "from keras.layers import Dense, Dropout, Flatten\n",
    "from keras.layers import Conv2D, MaxPooling2D\n",
    "from keras import backend as K\n",
    "import os\n",
    "import cv2\n",
    "import numpy as np\n",
    "import matplotlib.pyplot as plt\n",
    "%matplotlib inline"
   ]
  },
  {
   "cell_type": "code",
   "execution_count": null,
   "metadata": {
    "collapsed": true
   },
   "outputs": [],
   "source": [
    "letter_to_num = {'Alef': 0,\n",
    " 'Ayin': 1,\n",
    " 'Bet': 2,\n",
    " 'Dalet': 3,\n",
    " 'Gimel': 4,\n",
    " 'He': 5,\n",
    " 'Het': 6,\n",
    " 'Kaf': 7,\n",
    " 'Kaf-final': 8,\n",
    " 'Lamed': 9,\n",
    " 'Mem': 10,\n",
    " 'Mem-medial': 11,\n",
    " 'Nun-final': 12,\n",
    " 'Nun-medial': 13,\n",
    " 'Pe': 14,\n",
    " 'Pe-final': 15,\n",
    " 'Qof': 16,\n",
    " 'Resh': 17,\n",
    " 'Samekh': 18,\n",
    " 'Shin': 19,\n",
    " 'Taw': 20,\n",
    " 'Tet': 21,\n",
    " 'Tsadi-final': 22,\n",
    " 'Tsadi-medial': 23,\n",
    " 'Waw': 24,\n",
    " 'Yod': 25,\n",
    " 'Zayin': 26,\n",
    " 'Multi-letter':27,\n",
    " 'Noise':28}"
   ]
  },
  {
   "cell_type": "code",
   "execution_count": null,
   "metadata": {
    "collapsed": true
   },
   "outputs": [],
   "source": [
    "def load_data(data_path):\n",
    "    n_datapoints = 0\n",
    "    image_w = 28\n",
    "    image_h = 28\n",
    "    \n",
    "    for letter in [x for x in os.listdir(data_path)if not x.startswith(\".\")]:\n",
    "        for file in [x for x in os.listdir(data_path+letter) if not x.startswith(\".\")]:\n",
    "            n_datapoints +=1 \n",
    "\n",
    "    \n",
    "    x = np.zeros([n_datapoints,image_w,image_h])\n",
    "    y = np.zeros([n_datapoints])\n",
    "    \n",
    "    index_count = 0\n",
    "    for letter in [x for x in os.listdir(data_path)if not x.startswith(\".\")]:\n",
    "        for file in [x for x in os.listdir(data_path+letter) if not x.startswith(\".\")]:\n",
    "            img = cv2.imread(data_path+letter+\"/\"+file,0)\n",
    "            \n",
    "            x[index_count] = img\n",
    "            y[index_count] = letter_to_num[letter]\n",
    "            \n",
    "            index_count+=1\n",
    "            \n",
    "    return x,y\n",
    "            \n",
    "  "
   ]
  },
  {
   "cell_type": "code",
   "execution_count": 4,
   "metadata": {
    "collapsed": true
   },
   "outputs": [],
   "source": [
    "x_train,y_train = load_data(\"/Users/Karlsson/Documents/Skola/Handwriting_Recognition/Classification_Improved/Data/Augmented_Data_Not_Thinned/Train_Data/\")\n",
    "x_test,y_test = load_data(\"/Users/Karlsson/Documents/Skola/Handwriting_Recognition/Classification_Improved/Data/Augmented_Data_Not_Thinned/Test_Data/\")"
   ]
  },
  {
   "cell_type": "code",
   "execution_count": 13,
   "metadata": {},
   "outputs": [],
   "source": [
    "all_data = np.append(x_train,x_test,axis=0)\n",
    "all_labels = np.append(y_train, y_test)"
   ]
  },
  {
   "cell_type": "code",
   "execution_count": 14,
   "metadata": {},
   "outputs": [
    {
     "data": {
      "text/plain": [
       "(23661, 28, 28)"
      ]
     },
     "execution_count": 14,
     "metadata": {},
     "output_type": "execute_result"
    }
   ],
   "source": [
    "np.shape(all_data)"
   ]
  },
  {
   "cell_type": "code",
   "execution_count": 15,
   "metadata": {},
   "outputs": [
    {
     "data": {
      "text/plain": [
       "<matplotlib.image.AxesImage at 0x182f17fcc0>"
      ]
     },
     "execution_count": 15,
     "metadata": {},
     "output_type": "execute_result"
    },
    {
     "data": {
      "image/png": "[encoded data removed]",
      "text/plain": [
       "<matplotlib.figure.Figure at 0x182c801da0>"
      ]
     },
     "metadata": {},
     "output_type": "display_data"
    }
   ],
   "source": [
    "plt.imshow(all_data[2250],cmap=\"gray\")"
   ]
  },
  {
   "cell_type": "code",
   "execution_count": 16,
   "metadata": {
    "collapsed": true
   },
   "outputs": [],
   "source": [
    "batch_size = 128\n",
    "num_classes = 29\n",
    "epochs = 24"
   ]
  },
  {
   "cell_type": "code",
   "execution_count": 17,
   "metadata": {
    "collapsed": true
   },
   "outputs": [],
   "source": [
    "img_rows, img_cols = 28, 28"
   ]
  },
  {
   "cell_type": "code",
   "execution_count": 18,
   "metadata": {
    "collapsed": true
   },
   "outputs": [],
   "source": [
    "if K.image_data_format() == 'channels_first':\n",
    "    all_data = all_data.reshape(all_data.shape[0],1,img_rows,img_cols)\n",
    "    #x_train = x_train.reshape(x_train.shape[0], 1, img_rows, img_cols)\n",
    "    #x_test = x_test.reshape(x_test.shape[0], 1, img_rows, img_cols)\n",
    "    input_shape = (1, img_rows, img_cols)\n",
    "else:\n",
    "    all_data = all_data.reshape(all_data.shape[0],img_rows,img_cols,1)\n",
    "    #x_train = x_train.reshape(x_train.shape[0], img_rows, img_cols, 1)\n",
    "    #x_test = x_test.reshape(x_test.shape[0], img_rows, img_cols, 1)\n",
    "    input_shape = (img_rows, img_cols, 1)"
   ]
  },
  {
   "cell_type": "code",
   "execution_count": 19,
   "metadata": {},
   "outputs": [
    {
     "name": "stdout",
     "output_type": "stream",
     "text": [
      "data shape: (17809, 28, 28)\n",
      "23661  samples\n"
     ]
    }
   ],
   "source": [
    "all_data = all_data.astype('float32')\n",
    "#x_train = x_train.astype('float32')\n",
    "#x_test = x_test.astype('float32')\n",
    "all_data /= 255\n",
    "#x_train /= 255\n",
    "#x_test /= 255\n",
    "print('data shape:', x_train.shape)\n",
    "print(all_data.shape[0], ' samples')\n",
    "#print('x_train shape:', x_train.shape)\n",
    "#print(x_train.shape[0], 'train samples')\n",
    "#print(x_test.shape[0], 'test samples')"
   ]
  },
  {
   "cell_type": "code",
   "execution_count": 20,
   "metadata": {
    "collapsed": true
   },
   "outputs": [],
   "source": [
    "all_labels = keras.utils.to_categorical(all_labels,num_classes)\n",
    "#y_train = keras.utils.to_categorical(y_train, num_classes)\n",
    "#y_test = keras.utils.to_categorical(y_test, num_classes)"
   ]
  },
  {
   "cell_type": "code",
   "execution_count": 21,
   "metadata": {
    "collapsed": true
   },
   "outputs": [],
   "source": [
    "model = None\n",
    "model = Sequential()\n",
    "model.add(Conv2D(32, kernel_size=(3, 3),activation='relu',input_shape=input_shape))\n",
    "model.add(Conv2D(8, (3, 3), activation='relu'))\n",
    "model.add(Conv2D(32, (3, 3), activation='relu'))\n",
    "model.add(MaxPooling2D(pool_size=(2, 2)))\n",
    "model.add(Conv2D(64, (3, 3), activation='relu'))\n",
    "model.add(MaxPooling2D(pool_size=(2, 2)))\n",
    "model.add(Dropout(0.25))\n",
    "model.add(Flatten())\n",
    "model.add(Dense(128, activation='relu'))\n",
    "model.add(Dropout(0.5))\n",
    "model.add(Dense(num_classes, activation='softmax'))\n"
   ]
  },
  {
   "cell_type": "code",
   "execution_count": 22,
   "metadata": {
    "collapsed": true
   },
   "outputs": [],
   "source": [
    "datagen = ImageDataGenerator(featurewise_center=True,featurewise_std_normalization=True)\n",
    "# compute quantities required for featurewise normalization\n",
    "# (std, mean, and principal components if ZCA whitening is applied)\n",
    "datagen.fit(all_data)\n",
    "#datagen.fit(x_train)\n",
    "\n"
   ]
  },
  {
   "cell_type": "code",
   "execution_count": 23,
   "metadata": {},
   "outputs": [
    {
     "name": "stdout",
     "output_type": "stream",
     "text": [
      "Epoch 1/24\n",
      "185/185 [==============================] - 46s 249ms/step - loss: 1.8192 - acc: 0.4557\n",
      "Epoch 2/24\n",
      "185/185 [==============================] - 51s 275ms/step - loss: 0.8292 - acc: 0.7338\n",
      "Epoch 3/24\n",
      "185/185 [==============================] - 53s 288ms/step - loss: 0.6454 - acc: 0.7905\n",
      "Epoch 4/24\n",
      "185/185 [==============================] - 50s 272ms/step - loss: 0.5531 - acc: 0.8156\n",
      "Epoch 5/24\n",
      "185/185 [==============================] - 53s 289ms/step - loss: 0.4999 - acc: 0.8333\n",
      "Epoch 6/24\n",
      "185/185 [==============================] - 48s 258ms/step - loss: 0.4484 - acc: 0.8489\n",
      "Epoch 7/24\n",
      "185/185 [==============================] - 45s 241ms/step - loss: 0.4178 - acc: 0.8586\n",
      "Epoch 8/24\n",
      "185/185 [==============================] - 60s 326ms/step - loss: 0.3908 - acc: 0.8661\n",
      "Epoch 9/24\n",
      "185/185 [==============================] - 51s 275ms/step - loss: 0.3656 - acc: 0.8736\n",
      "Epoch 10/24\n",
      "185/185 [==============================] - 54s 294ms/step - loss: 0.3535 - acc: 0.8788\n",
      "Epoch 11/24\n",
      "185/185 [==============================] - 56s 301ms/step - loss: 0.3261 - acc: 0.8870\n",
      "Epoch 12/24\n",
      "185/185 [==============================] - 59s 318ms/step - loss: 0.3191 - acc: 0.8899\n",
      "Epoch 13/24\n",
      "185/185 [==============================] - 56s 300ms/step - loss: 0.3041 - acc: 0.8943\n",
      "Epoch 14/24\n",
      "185/185 [==============================] - 51s 275ms/step - loss: 0.2947 - acc: 0.8974\n",
      "Epoch 15/24\n",
      "185/185 [==============================] - 54s 291ms/step - loss: 0.2807 - acc: 0.9024\n",
      "Epoch 16/24\n",
      "185/185 [==============================] - 56s 301ms/step - loss: 0.2623 - acc: 0.9041\n",
      "Epoch 17/24\n",
      "185/185 [==============================] - 51s 277ms/step - loss: 0.2641 - acc: 0.9102\n",
      "Epoch 18/24\n",
      "185/185 [==============================] - 51s 276ms/step - loss: 0.2516 - acc: 0.9117\n",
      "Epoch 19/24\n",
      "185/185 [==============================] - 52s 279ms/step - loss: 0.2446 - acc: 0.9131\n",
      "Epoch 20/24\n",
      "185/185 [==============================] - 50s 270ms/step - loss: 0.2442 - acc: 0.9138\n",
      "Epoch 21/24\n",
      "185/185 [==============================] - 56s 302ms/step - loss: 0.2316 - acc: 0.9194\n",
      "Epoch 22/24\n",
      "185/185 [==============================] - 52s 282ms/step - loss: 0.2241 - acc: 0.9202\n",
      "Epoch 23/24\n",
      "185/185 [==============================] - 47s 255ms/step - loss: 0.2192 - acc: 0.9220\n",
      "Epoch 24/24\n",
      "185/185 [==============================] - 48s 258ms/step - loss: 0.2143 - acc: 0.9232\n"
     ]
    },
    {
     "data": {
      "text/plain": [
       "<keras.callbacks.History at 0x182f343278>"
      ]
     },
     "execution_count": 23,
     "metadata": {},
     "output_type": "execute_result"
    }
   ],
   "source": [
    "model.compile(loss=keras.losses.categorical_crossentropy,\n",
    "              optimizer=keras.optimizers.Adadelta(),\n",
    "              metrics=['accuracy'])\n",
    "# fits the model on batches with real-time data augmentation:\n",
    "#model.fit_generator(datagen.flow(x_train, y_train, batch_size=batch_size),\\\n",
    "#                    validation_data=datagen.flow(x_test,y_test,batch_size=batch_size),\\\n",
    "#                    epochs=epochs)\n",
    "model.fit_generator(datagen.flow(all_data, all_labels, batch_size=batch_size),epochs=epochs)\n",
    "\n",
    "#model.fit(x_train, y_train,\n",
    "#          batch_size=batch_size,\n",
    "#          epochs=epochs,\n",
    "#          verbose=1,\n",
    "#          validation_data=(x_test, y_test))\n"
   ]
  },
  {
   "cell_type": "code",
   "execution_count": null,
   "metadata": {},
   "outputs": [],
   "source": [
    "score = model.evaluate(x_test, y_test, verbose=0)\n",
    "print('Test loss:', score[0])\n",
    "print('Test accuracy:', score[1])"
   ]
  },
  {
   "cell_type": "code",
   "execution_count": null,
   "metadata": {},
   "outputs": [],
   "source": [
    "score = model.evaluate_generator(datagen.flow(x_test,y_test))\n",
    "print(score)"
   ]
  },
  {
   "cell_type": "code",
   "execution_count": 24,
   "metadata": {
    "collapsed": true
   },
   "outputs": [],
   "source": [
    "model.save(\"Models/improved_augmented_cnn_v6.h5\")"
   ]
  },
  {
   "cell_type": "code",
   "execution_count": null,
   "metadata": {},
   "outputs": [],
   "source": [
    "p = model.predict_generator(datagen.flow(x_test[i:i+1,:,:,:],batch_size=1),workers=0,verbose=1)"
   ]
  },
  {
   "cell_type": "code",
   "execution_count": null,
   "metadata": {},
   "outputs": [],
   "source": [
    "np.shape(p)"
   ]
  },
  {
   "cell_type": "code",
   "execution_count": null,
   "metadata": {
    "collapsed": true
   },
   "outputs": [],
   "source": [
    "x= x_test[2].reshape(1,28,28,1)\n",
    "p = model.predict_generator(datagen.flow(x,batch_size=1),workers=0,verbose=0)"
   ]
  },
  {
   "cell_type": "code",
   "execution_count": null,
   "metadata": {},
   "outputs": [],
   "source": [
    "p"
   ]
  },
  {
   "cell_type": "code",
   "execution_count": 34,
   "metadata": {},
   "outputs": [
    {
     "name": "stdout",
     "output_type": "stream",
     "text": [
      "acc: 0.9679218967921897\n"
     ]
    },
    {
     "data": {
      "image/png": "[encoded data removed]",
      "text/plain": [
       "<matplotlib.figure.Figure at 0x18349001d0>"
      ]
     },
     "metadata": {},
     "output_type": "display_data"
    }
   ],
   "source": [
    "cm = np.zeros([29,29])\n",
    "\n",
    "for i in range(len(all_labels)):\n",
    "    \n",
    "    x = all_data[i].reshape(1,28,28,1)\n",
    "    #x = x_test[i].reshape(1,28,28,1)\n",
    "    \n",
    "    p = model.predict_generator(datagen.flow(x,batch_size=1),workers=0,verbose=0)\n",
    "    \n",
    "    \n",
    "    top = np.argsort(-p)[0][0]\n",
    "   \n",
    "    cm[int(np.argmax(all_labels[i])),top] += 1\n",
    "    \n",
    "print(\"acc: {}\".format(np.sum(np.diag(cm))/len(all_labels)))\n",
    "plt.matshow(cm,cmap=\"binary\")\n",
    "plt.show()\n",
    "        "
   ]
  },
  {
   "cell_type": "code",
   "execution_count": 35,
   "metadata": {},
   "outputs": [
    {
     "data": {
      "text/plain": [
       "<matplotlib.axes._subplots.AxesSubplot at 0x183489ee10>"
      ]
     },
     "execution_count": 35,
     "metadata": {},
     "output_type": "execute_result"
    },
    {
     "data": {
      "image/png": "[encoded data removed]",
      "text/plain": [
       "<matplotlib.figure.Figure at 0x18348e7a90>"
      ]
     },
     "metadata": {},
     "output_type": "display_data"
    }
   ],
   "source": [
    "import pandas as pd\n",
    "f_cm = pd.DataFrame(cm, index = letter_to_num.keys(),\n",
    "                  columns = letter_to_num.keys())\n",
    "import seaborn as sn\n",
    "sn.heatmap(f_cm,cmap = \"binary\")"
   ]
  },
  {
   "cell_type": "code",
   "execution_count": null,
   "metadata": {},
   "outputs": [],
   "source": []
  },
  {
   "cell_type": "code",
   "execution_count": null,
   "metadata": {},
   "outputs": [],
   "source": [
    "model.predict_generator(datagen.flow(x_test,y_test,batch_size=1))"
   ]
  },
  {
   "cell_type": "code",
   "execution_count": null,
   "metadata": {},
   "outputs": [],
   "source": [
    "datagen.flow(x_test)"
   ]
  },
  {
   "cell_type": "code",
   "execution_count": null,
   "metadata": {},
   "outputs": [],
   "source": [
    "np.shape(x_test)"
   ]
  },
  {
   "cell_type": "code",
   "execution_count": null,
   "metadata": {},
   "outputs": [],
   "source": [
    "print(np.max(model.predict_proba(x_test[0:1])))"
   ]
  },
  {
   "cell_type": "code",
   "execution_count": null,
   "metadata": {},
   "outputs": [],
   "source": [
    "plt.imshow((x_test[0,:,:,0]))"
   ]
  },
  {
   "cell_type": "code",
   "execution_count": 25,
   "metadata": {},
   "outputs": [
    {
     "name": "stdout",
     "output_type": "stream",
     "text": [
      "[[[ 0.18548644]]]\n",
      "[[[ 0.35560286]]]\n"
     ]
    }
   ],
   "source": [
    "print(datagen.mean)\n",
    "print(datagen.std)"
   ]
  },
  {
   "cell_type": "code",
   "execution_count": null,
   "metadata": {
    "collapsed": true
   },
   "outputs": [],
   "source": [
    "f_cm.to_csv(\"cm\")"
   ]
  },
  {
   "cell_type": "code",
   "execution_count": null,
   "metadata": {
    "collapsed": true
   },
   "outputs": [],
   "source": []
  }
 ],
 "metadata": {
  "kernelspec": {
   "display_name": "Python 3",
   "language": "python",
   "name": "python3"
  },
  "language_info": {
   "codemirror_mode": {
    "name": "ipython",
    "version": 3
   },
   "file_extension": ".py",
   "mimetype": "text/x-python",
   "name": "python",
   "nbconvert_exporter": "python",
   "pygments_lexer": "ipython3",
   "version": "3.6.4"
  }
 },
 "nbformat": 4,
 "nbformat_minor": 2
}
