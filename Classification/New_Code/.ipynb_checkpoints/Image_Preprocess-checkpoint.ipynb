{
 "cells": [
  {
   "cell_type": "code",
   "execution_count": 1,
   "metadata": {
    "collapsed": true
   },
   "outputs": [],
   "source": [
    "import os, math, random\n",
    "import numpy as np\n",
    "import matplotlib.pyplot as plt\n",
    "%matplotlib inline\n",
    "import cv2"
   ]
  },
  {
   "cell_type": "code",
   "execution_count": 2,
   "metadata": {
    "collapsed": true
   },
   "outputs": [],
   "source": [
    "data_path = '/Users/Karlsson/Documents/Skola/Handwriting_Recognition/Classification_Improved/Data/'\n",
    "save_path = '/Users/Karlsson/Documents/Skola/Handwriting_Recognition/Classification_Improved/Data/Resized_Data/'"
   ]
  },
  {
   "cell_type": "code",
   "execution_count": null,
   "metadata": {
    "collapsed": true
   },
   "outputs": [],
   "source": []
  },
  {
   "cell_type": "code",
   "execution_count": null,
   "metadata": {},
   "outputs": [],
   "source": [
    "for super_folder in ['Test_Data','Train_Data']:\n",
    "    for letter in [x for x in os.listdir(data_path+super_folder)if not x.startswith(\".\")]:\n",
    "        for file in [x for x in os.listdir(data_path+super_folder+\"/\"+letter) if not x.startswith(\".\")]:\n",
    "            \n",
    "            load_path = data_path+super_folder+\"/\"+letter+\"/\"+file\n",
    "            img = load_image(load_path)\n",
    "            \n",
    "            if(not os.path.isdir(save_path+super_folder+\"/\"+letter)):\n",
    "                os.system(\"mkdir \" + save_path + super_folder+\"/\"+letter)\n",
    "     \n",
    "            write_path = save_path+super_folder+\"/\"+letter+\"/\"+file\n",
    "\n",
    "            cv2.imwrite(write_path,img)\n",
    "  \n",
    "            "
   ]
  },
  {
   "cell_type": "code",
   "execution_count": 8,
   "metadata": {},
   "outputs": [
    {
     "data": {
      "text/plain": [
       "'/Users/Karlsson/Documents/Skola/Handwriting_Recognition/Classification_Improved/Data/Resized_Data/Train_Data/Multi-letter/Multi-letter_1.png'"
      ]
     },
     "execution_count": 8,
     "metadata": {},
     "output_type": "execute_result"
    }
   ],
   "source": [
    "write_path"
   ]
  },
  {
   "cell_type": "markdown",
   "metadata": {},
   "source": [
    "/Users/Karlsson/Documents/Skola/Handwriting_Recognition/Classification_Improved/Data/Resized_Data/Train_Data/Multi-letter"
   ]
  },
  {
   "cell_type": "code",
   "execution_count": 3,
   "metadata": {},
   "outputs": [],
   "source": [
    "def load_image(img_path):\n",
    "    img = cv2.imread(img_path,0)\n",
    "    return(preprocess_image(img))"
   ]
  },
  {
   "cell_type": "code",
   "execution_count": 4,
   "metadata": {},
   "outputs": [],
   "source": [
    "def preprocess_image(img):\n",
    "    #Binarize image\n",
    "    binarized_image = img.copy()\n",
    "    threshold = 127\n",
    "    binarized_image[img<=threshold] = 1\n",
    "    binarized_image[img>threshold] = 0\n",
    "    \n",
    "    #Filter out biggest component\n",
    "    output = cv2.connectedComponentsWithStats(binarized_image, 4, cv2.CV_32S)\n",
    "    labels = output[1]\n",
    "    stats = output[2]\n",
    "    \n",
    "    biggest_components =  np.argsort(-stats[:,4])\n",
    "    \n",
    "    if(stats[biggest_components[0],0] == 0 and stats[biggest_components[0],1] == 0 ):\n",
    "        biggest_component = biggest_components[1]\n",
    "    else:\n",
    "        biggest_component = biggest_components[0]\n",
    "    \n",
    "    binarized_image[labels != biggest_component] = 0\n",
    "    binarized_image[labels == biggest_component] = 1\n",
    "    #Get bounding box of resulting image\n",
    "    left,top,width,height = stats[biggest_component,0:4]\n",
    "\n",
    "    x1 = left\n",
    "    x2 = left + width\n",
    "    y1 = top\n",
    "    y2 = top + height\n",
    "\n",
    "    boxed_image = binarized_image[y1:y2,x1:x2].astype(np.uint8)\n",
    "    plt.imshow(labels)\n",
    "\n",
    "    #Reshape, but keep ratio\n",
    "    original_shape = np.shape(boxed_image)\n",
    "    new_shape = (original_shape/np.max(original_shape)*25).astype(int)\n",
    "    resized_image = cv2.resize(boxed_image,dsize = (new_shape[1],new_shape[0]))\n",
    "    \n",
    "    #Blur\n",
    "    sigma = 0.5\n",
    "    smooth_image = 255*cv2.GaussianBlur(resized_image.astype(np.float64),(3,3),sigmaX=sigma,sigmaY=sigma)\n",
    "    \n",
    "    #Zeropad to make it desired size\n",
    "    height,width  = new_shape\n",
    "\n",
    "    left_padding = (28-width)//2\n",
    "    top_padding = (28-height)//2\n",
    "\n",
    "    padded_image = np.zeros([28,28])\n",
    "    padded_image[top_padding:top_padding+height, left_padding:left_padding+width] = smooth_image\n",
    "\n",
    "    return padded_image.astype(np.uint8)"
   ]
  },
  {
   "cell_type": "code",
   "execution_count": 10,
   "metadata": {},
   "outputs": [
    {
     "data": {
      "text/plain": [
       "<matplotlib.image.AxesImage at 0x1096bc668>"
      ]
     },
     "execution_count": 10,
     "metadata": {},
     "output_type": "execute_result"
    },
    {
     "data": {
      "image/png": "[encoded data removed]",
      "text/plain": [
       "<matplotlib.figure.Figure at 0x11be5d2b0>"
      ]
     },
     "metadata": {},
     "output_type": "display_data"
    }
   ],
   "source": [
    "letter = random.choice(os.listdir(data_path+\"Train_Data/\"))\n",
    "file = random.choice(os.listdir(data_path+\"Train_Data/\"+letter))\n",
    "img = cv2.imread(data_path+\"Train_Data/\"+letter+\"/\"+file,0)\n",
    "pimg= preprocess_image(img)\n",
    "plt.subplot(121)\n",
    "plt.imshow(img,cmap=\"binary\")\n",
    "plt.subplot(122)\n",
    "plt.imshow(pimg,cmap=\"binary\")"
   ]
  },
  {
   "cell_type": "code",
   "execution_count": null,
   "metadata": {
    "collapsed": true
   },
   "outputs": [],
   "source": []
  }
 ],
 "metadata": {
  "kernelspec": {
   "display_name": "Python 3",
   "language": "python",
   "name": "python3"
  },
  "language_info": {
   "codemirror_mode": {
    "name": "ipython",
    "version": 3
   },
   "file_extension": ".py",
   "mimetype": "text/x-python",
   "name": "python",
   "nbconvert_exporter": "python",
   "pygments_lexer": "ipython3",
   "version": "3.6.4"
  }
 },
 "nbformat": 4,
 "nbformat_minor": 2
}
