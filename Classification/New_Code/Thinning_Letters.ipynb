{
 "cells": [
  {
   "cell_type": "code",
   "execution_count": 2,
   "metadata": {
    "collapsed": true
   },
   "outputs": [],
   "source": [
    "import os, math, random\n",
    "import numpy as np\n",
    "import matplotlib\n",
    "import matplotlib.pyplot as plt\n",
    "%matplotlib inline\n",
    "import cv2\n",
    "import skimage.io as io\n",
    "from skimage.filters import threshold_otsu"
   ]
  },
  {
   "cell_type": "code",
   "execution_count": 3,
   "metadata": {
    "collapsed": true
   },
   "outputs": [],
   "source": [
    "data_path = '/Users/Karlsson/Documents/Skola/Handwriting_Recognition/Classification_Improved/Data/Resized_Data/'\n",
    "save_path = '/Users/Karlsson/Documents/Skola/Handwriting_Recognition/Classification_Improved/Data/Thinned_Data/'"
   ]
  },
  {
   "cell_type": "code",
   "execution_count": 6,
   "metadata": {
    "collapsed": true
   },
   "outputs": [],
   "source": [
    "for super_folder in ['Test_Data','Train_Data']:\n",
    "    for letter in [x for x in os.listdir(data_path+super_folder)if not x.startswith(\".\")]:\n",
    "        for file in [x for x in os.listdir(data_path+super_folder+\"/\"+letter) if not x.startswith(\".\")]:\n",
    "            \n",
    "            load_path = data_path+super_folder+\"/\"+letter+\"/\"+file\n",
    "         \n",
    "            img = cv2.imread(load_path,0)\n",
    "\n",
    "            \n",
    "            thinned_image = zhangSuen(img)\n",
    "            if(not os.path.isdir(save_path+super_folder+\"/\"+letter)):\n",
    "                os.system(\"mkdir \" + save_path + super_folder+\"/\"+letter)\n",
    "            \n",
    "            write_path = save_path+super_folder+\"/\"+letter+\"/\"+file\n",
    "           \n",
    "            cv2.imwrite(write_path,thinned_image)\n",
    "          \n",
    "                \n",
    "            \n",
    "            \n",
    "  "
   ]
  },
  {
   "cell_type": "code",
   "execution_count": 36,
   "metadata": {
    "collapsed": true
   },
   "outputs": [],
   "source": [
    "def neighbours(x,y,image):\n",
    "    #\"Return 8-neighbours of image point P1(x,y), in a clockwise order\"\n",
    "    img = image\n",
    "    x_1, y_1, x1, y1 = x-1, y-1, x+1, y+1\n",
    "    return [ img[x_1][y], img[x_1][y1], img[x][y1], img[x1][y1],     # P2,P3,P4,P5\n",
    "                img[x1][y], img[x1][y_1], img[x][y_1], img[x_1][y_1] ]    # P6,P7,P8,P9\n",
    "\n",
    "def transitions(neighbours):\n",
    "    #\"No. of 0,1 patterns (transitions from 0 to 1) in the ordered sequence\"\n",
    "    n = neighbours + neighbours[0:1]      # P2, P3, ... , P8, P9, P2\n",
    "    return sum( (n1, n2) == (0, 1) for n1, n2 in zip(n, n[1:]) )  # (P2,P3), (P3,P4), ... , (P8,P9), (P9,P2)\n",
    "\n",
    "def zhangSuen(image):\n",
    "    Img_Original = image.copy()\n",
    "    Otsu_Threshold = threshold_otsu(image.copy())   \n",
    "    BW_Original = Img_Original > Otsu_Threshold \n",
    "    \n",
    "    #\"the Zhang-Suen Thinning Algorithm\"\n",
    "    Image_Thinned = BW_Original  # deepcopy to protect the original image\n",
    "    changing1 = changing2 = 1        #  the points to be removed (set as 0)\n",
    "    while changing1 or changing2:   #  iterates until no further changes occur in the image\n",
    "        # Step 1\n",
    "        changing1 = []\n",
    "        rows, columns = Image_Thinned.shape               # x for rows, y for columns\n",
    "        for x in range(1, rows - 1):                     # No. of  rows\n",
    "            for y in range(1, columns - 1):            # No. of columns\n",
    "                P2,P3,P4,P5,P6,P7,P8,P9 = n = neighbours(x, y, Image_Thinned)\n",
    "                if (Image_Thinned[x][y] == 1     and    # Condition 0: Point P1 in the object regions \n",
    "                    2 <= sum(n) <= 6   and    # Condition 1: 2<= N(P1) <= 6\n",
    "                    transitions(n) == 1 and    # Condition 2: S(P1)=1  \n",
    "                    P2 * P4 * P6 == 0  and    # Condition 3   \n",
    "                    P4 * P6 * P8 == 0):         # Condition 4\n",
    "                    changing1.append((x,y))\n",
    "        for x, y in changing1: \n",
    "            Image_Thinned[x][y] = 0\n",
    "        # Step 2\n",
    "        changing2 = []\n",
    "        for x in range(1, rows - 1):\n",
    "            for y in range(1, columns - 1):\n",
    "                P2,P3,P4,P5,P6,P7,P8,P9 = n = neighbours(x, y, Image_Thinned)\n",
    "                if (Image_Thinned[x][y] == 1   and        # Condition 0\n",
    "                    2 <= sum(n) <= 6  and       # Condition 1\n",
    "                    transitions(n) == 1 and      # Condition 2\n",
    "                    P2 * P4 * P8 == 0 and       # Condition 3\n",
    "                    P2 * P6 * P8 == 0):            # Condition 4\n",
    "                    changing2.append((x,y))    \n",
    "        for x, y in changing2: \n",
    "            Image_Thinned[x][y] = 0\n",
    "            \n",
    "            \n",
    "            \n",
    "    #Blur                                                                                                                                                                                                   \n",
    "    sigma = 0.6\n",
    "    smooth_image = 255*cv2.GaussianBlur(Image_Thinned.astype(np.float64),(5,5),sigmaX=sigma,sigmaY=sigma)\n",
    "\n",
    "    return smooth_image.astype(np.uint8)\n"
   ]
  },
  {
   "cell_type": "code",
   "execution_count": null,
   "metadata": {
    "collapsed": true
   },
   "outputs": [],
   "source": []
  },
  {
   "cell_type": "code",
   "execution_count": 45,
   "metadata": {},
   "outputs": [
    {
     "data": {
      "image/png": "[encoded data removed]",
      "text/plain": [
       "<matplotlib.figure.Figure at 0x1c1d031ef0>"
      ]
     },
     "metadata": {},
     "output_type": "display_data"
    }
   ],
   "source": [
    "letter = random.choice(os.listdir(data_path+\"Train_Data/\"))\n",
    "file = random.choice(os.listdir(data_path+\"Train_Data/\"+letter))\n",
    "img = cv2.imread(data_path+\"Train_Data/\"+letter+\"/\"+file,0)\n",
    "BW_Skeleton = zhangSuen(img)\n",
    "# BW_Skeleton = BW_Original\n",
    "fig, ax = plt.subplots(1, 2)\n",
    "ax1, ax2 = ax.ravel()\n",
    "ax1.imshow(img, cmap=plt.cm.gray)\n",
    "ax1.set_title('Original binary image')\n",
    "ax1.axis('off')\n",
    "ax2.imshow(BW_Skeleton, cmap=plt.cm.gray)\n",
    "ax2.set_title('Skeleton of the image')\n",
    "ax2.axis('off')\n",
    "plt.show()"
   ]
  },
  {
   "cell_type": "code",
   "execution_count": 5,
   "metadata": {},
   "outputs": [
    {
     "data": {
      "text/plain": [
       "array([[  0,   0,   0,   0,   0,   0,   0,   0,   0,   0,   0,   0,   0,\n",
       "          0,   0,   0,   0,   0,   0,   0,   0,   0,   0,   0,   0,   0,\n",
       "          0,   0],\n",
       "       [  0,   0,   0,   0,   0,   0,   0,   0,   0,   0,   0,   0,   0,\n",
       "          0,   0,   0,   0,   0,   0,   0,   0,   0,   0,   0,   0,   0,\n",
       "          0,   0],\n",
       "       [  0,   0,   0,   0,   0,   0,   0, 255,   0,   0,   0,   0,   0,\n",
       "          0,   0,   0,   0,   0,   0,   0,   0,   0,   0,   0,   0,   0,\n",
       "          0,   0],\n",
       "       [  0,   0,   0,   0,   0,   0,   0, 255,   0,   0,   0,   0,   0,\n",
       "          0,   0,   0,   0,   0,   0,   0,   0,   0,   0,   0,   0,   0,\n",
       "          0,   0],\n",
       "       [  0,   0,   0,   0,   0,   0,   0, 255,   0,   0,   0,   0,   0,\n",
       "          0,   0,   0,   0,   0,   0,   0,   0,   0,   0,   0,   0,   0,\n",
       "          0,   0],\n",
       "       [  0,   0,   0,   0,   0,   0,   0, 255,   0,   0,   0,   0,   0,\n",
       "          0,   0,   0,   0,   0,   0,   0,   0,   0,   0,   0,   0,   0,\n",
       "          0,   0],\n",
       "       [  0,   0,   0,   0,   0,   0,   0,   0, 255,   0,   0,   0,   0,\n",
       "          0,   0,   0,   0,   0,   0,   0,   0,   0,   0,   0,   0,   0,\n",
       "          0,   0],\n",
       "       [  0,   0,   0,   0,   0,   0,   0,   0,   0, 255,   0,   0,   0,\n",
       "          0,   0,   0,   0,   0,   0, 255,   0,   0,   0,   0,   0,   0,\n",
       "          0,   0],\n",
       "       [  0,   0,   0,   0,   0,   0,   0,   0,   0, 255,   0,   0,   0,\n",
       "          0,   0,   0,   0,   0,   0, 255,   0,   0,   0,   0,   0,   0,\n",
       "          0,   0],\n",
       "       [  0,   0,   0,   0,   0,   0,   0,   0,   0,   0, 255,   0,   0,\n",
       "          0,   0,   0,   0,   0,   0, 255,   0,   0,   0,   0,   0,   0,\n",
       "          0,   0],\n",
       "       [  0,   0,   0,   0,   0,   0,   0,   0,   0,   0, 255,   0,   0,\n",
       "          0,   0,   0,   0,   0,   0, 255,   0,   0,   0,   0,   0,   0,\n",
       "          0,   0],\n",
       "       [  0,   0,   0,   0,   0,   0,   0,   0,   0,   0,   0, 255,   0,\n",
       "          0,   0,   0,   0,   0,   0, 255,   0,   0,   0,   0,   0,   0,\n",
       "          0,   0],\n",
       "       [  0,   0,   0,   0,   0,   0,   0,   0,   0,   0,   0, 255,   0,\n",
       "          0,   0,   0,   0,   0,   0, 255,   0,   0,   0,   0,   0,   0,\n",
       "          0,   0],\n",
       "       [  0,   0,   0,   0,   0,   0,   0,   0,   0,   0,   0, 255,   0,\n",
       "          0,   0,   0,   0,   0, 255,   0,   0,   0,   0,   0,   0,   0,\n",
       "          0,   0],\n",
       "       [  0,   0,   0,   0,   0,   0,   0,   0,   0,   0,   0, 255,   0,\n",
       "          0,   0,   0,   0,   0, 255,   0,   0,   0,   0,   0,   0,   0,\n",
       "          0,   0],\n",
       "       [  0,   0,   0,   0,   0,   0,   0,   0,   0,   0,   0,   0, 255,\n",
       "          0, 255, 255, 255, 255,   0,   0,   0,   0,   0,   0,   0,   0,\n",
       "          0,   0],\n",
       "       [  0,   0,   0,   0,   0,   0,   0,   0,   0,   0,   0,   0,   0,\n",
       "        255,   0,   0,   0,   0,   0,   0,   0,   0,   0,   0,   0,   0,\n",
       "          0,   0],\n",
       "       [  0,   0,   0,   0,   0,   0,   0,   0,   0,   0,   0,   0, 255,\n",
       "          0,   0,   0,   0,   0,   0,   0,   0,   0,   0,   0,   0,   0,\n",
       "          0,   0],\n",
       "       [  0,   0,   0,   0,   0,   0,   0,   0,   0,   0,   0,   0, 255,\n",
       "          0,   0,   0,   0,   0,   0,   0,   0,   0,   0,   0,   0,   0,\n",
       "          0,   0],\n",
       "       [  0,   0,   0,   0,   0,   0,   0,   0,   0,   0,   0,   0, 255,\n",
       "          0,   0,   0,   0,   0,   0,   0,   0,   0,   0,   0,   0,   0,\n",
       "          0,   0],\n",
       "       [  0,   0,   0,   0,   0,   0,   0,   0,   0,   0, 255, 255,   0,\n",
       "          0,   0,   0,   0,   0,   0,   0,   0,   0,   0,   0,   0,   0,\n",
       "          0,   0],\n",
       "       [  0,   0,   0,   0,   0,   0,   0,   0,   0,   0,   0,   0,   0,\n",
       "          0,   0,   0,   0,   0,   0,   0,   0,   0,   0,   0,   0,   0,\n",
       "          0,   0],\n",
       "       [  0,   0,   0,   0,   0,   0,   0,   0,   0,   0,   0,   0,   0,\n",
       "          0,   0,   0,   0,   0,   0,   0,   0,   0,   0,   0,   0,   0,\n",
       "          0,   0],\n",
       "       [  0,   0,   0,   0,   0,   0,   0,   0,   0,   0,   0,   0,   0,\n",
       "          0,   0,   0,   0,   0,   0,   0,   0,   0,   0,   0,   0,   0,\n",
       "          0,   0],\n",
       "       [  0,   0,   0,   0,   0,   0,   0,   0,   0,   0,   0,   0,   0,\n",
       "          0,   0,   0,   0,   0,   0,   0,   0,   0,   0,   0,   0,   0,\n",
       "          0,   0],\n",
       "       [  0,   0,   0,   0,   0,   0,   0,   0,   0,   0,   0,   0,   0,\n",
       "          0,   0,   0,   0,   0,   0,   0,   0,   0,   0,   0,   0,   0,\n",
       "          0,   0],\n",
       "       [  0,   0,   0,   0,   0,   0,   0,   0,   0,   0,   0,   0,   0,\n",
       "          0,   0,   0,   0,   0,   0,   0,   0,   0,   0,   0,   0,   0,\n",
       "          0,   0],\n",
       "       [  0,   0,   0,   0,   0,   0,   0,   0,   0,   0,   0,   0,   0,\n",
       "          0,   0,   0,   0,   0,   0,   0,   0,   0,   0,   0,   0,   0,\n",
       "          0,   0]], dtype=uint8)"
      ]
     },
     "execution_count": 5,
     "metadata": {},
     "output_type": "execute_result"
    }
   ],
   "source": [
    "BW_Skeleton"
   ]
  },
  {
   "cell_type": "code",
   "execution_count": null,
   "metadata": {
    "collapsed": true
   },
   "outputs": [],
   "source": []
  }
 ],
 "metadata": {
  "kernelspec": {
   "display_name": "Python 3",
   "language": "python",
   "name": "python3"
  },
  "language_info": {
   "codemirror_mode": {
    "name": "ipython",
    "version": 3
   },
   "file_extension": ".py",
   "mimetype": "text/x-python",
   "name": "python",
   "nbconvert_exporter": "python",
   "pygments_lexer": "ipython3",
   "version": "3.6.4"
  }
 },
 "nbformat": 4,
 "nbformat_minor": 2
}
