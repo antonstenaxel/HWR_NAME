{
 "cells": [
  {
   "cell_type": "code",
   "execution_count": 44,
   "metadata": {
    "collapsed": true
   },
   "outputs": [],
   "source": [
    "import os, math\n",
    "import numpy as np\n",
    "import matplotlib.pyplot as plt\n",
    "%matplotlib inline\n",
    "import cv2"
   ]
  },
  {
   "cell_type": "code",
   "execution_count": 49,
   "metadata": {
    "collapsed": true
   },
   "outputs": [],
   "source": [
    "train_fraction = 0.8\n",
    "data_path = \"../../monkbrill_171005/\"\n",
    "save_path = \"/Users/Karlsson/Documents/Skola/Handwriting_Recognition/Classification_Improved/Data/\""
   ]
  },
  {
   "cell_type": "code",
   "execution_count": 24,
   "metadata": {
    "collapsed": true
   },
   "outputs": [],
   "source": [
    "n_test_images = 0\n",
    "original_distribution = {}\n",
    "images = {}\n",
    "for letter in os.listdir(data_path):\n",
    "    if(not letter.startswith(\".\")):\n",
    "        for file in os.listdir(data_path+letter):\n",
    "            n_test_images += 0\n",
    "            \n",
    "            img = cv2.imread(data_path+letter+\"/\"+file,0)\n",
    "            if(letter in original_distribution.keys()):\n",
    "                original_distribution[letter] += 1\n",
    "                images[letter] += [img]\n",
    "            else:\n",
    "                original_distribution[letter] = 1;\n",
    "                images[letter] = [img]"
   ]
  },
  {
   "cell_type": "code",
   "execution_count": 57,
   "metadata": {},
   "outputs": [
    {
     "name": "stdout",
     "output_type": "stream",
     "text": [
      "Complete\n"
     ]
    }
   ],
   "source": [
    "for letter in images.keys():\n",
    "    #Get number of images in each category\n",
    "    n_test_images = int(train_fraction * original_distribution[letter])\n",
    "    n_train_images = original_distribution[letter] - n_test_images\n",
    "    \n",
    "    #Create destination folder if not already exists\n",
    "    train_path = os.system(\"mkdir \" + save_path + \"Train_Data/\"+letter)\n",
    "    if(not os.path.isdir(train_path)):\n",
    "        os.system(\"mkdir \" + save_path + \"Train_Data/\"+letter)\n",
    "      \n",
    "    test_path = os.system(\"mkdir \" + save_path + \"Test_Data/\"+letter)\n",
    "    if(not os.path.isdir(test_path)):\n",
    "        os.system(\"mkdir \" + save_path + \"Test_Data/\"+letter)\n",
    "    \n",
    "    \n",
    "    shuffled_images = np.random.permutation(images[letter])\n",
    "    \n",
    "    letter_count = 0\n",
    "    for img in shuffled_images:\n",
    "        img_name = letter + \"_\" + str(letter_count)\n",
    "        letter_count += 1\n",
    "        \n",
    "        if(letter_count<n_test_images):\n",
    "            cv2.imwrite(save_path+\"Train_Data/\"+letter+\"/\"+img_name+\".png\",img)\n",
    "        else:\n",
    "            cv2.imwrite(save_path+\"Test_Data/\"+letter+\"/\"+img_name+\".png\",img) \n",
    "print(\"Complete\")"
   ]
  },
  {
   "cell_type": "code",
   "execution_count": null,
   "metadata": {},
   "outputs": [],
   "source": []
  },
  {
   "cell_type": "code",
   "execution_count": null,
   "metadata": {
    "collapsed": true
   },
   "outputs": [],
   "source": []
  },
  {
   "cell_type": "code",
   "execution_count": null,
   "metadata": {
    "collapsed": true
   },
   "outputs": [],
   "source": []
  }
 ],
 "metadata": {
  "kernelspec": {
   "display_name": "Python 3",
   "language": "python",
   "name": "python3"
  },
  "language_info": {
   "codemirror_mode": {
    "name": "ipython",
    "version": 3
   },
   "file_extension": ".py",
   "mimetype": "text/x-python",
   "name": "python",
   "nbconvert_exporter": "python",
   "pygments_lexer": "ipython3",
   "version": "3.6.4"
  }
 },
 "nbformat": 4,
 "nbformat_minor": 2
}
